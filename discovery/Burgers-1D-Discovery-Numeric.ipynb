{
 "cells": [
  {
   "cell_type": "markdown",
   "id": "62aa1e18-e0c3-45cd-a14d-6242817993cb",
   "metadata": {},
   "source": [
    "# 1D Burgers Data-Driven Parameter Discovery Numerical\n",
    "\n",
    "*2024-04-21*"
   ]
  },
  {
   "cell_type": "markdown",
   "id": "5350e838-720b-4db2-ae47-280e07f0d0f3",
   "metadata": {},
   "source": [
    "This work is based on:\n",
    "\n",
    "* *STLSQ* - Sequentially thresholded least squares regression algorithm. Attempts to minimize the objective function by iteratively performing least squares and masking out elements of the weight that are below a given threshold.\n",
    "* *PySINDy* - [Sparse regression package](<https://pysindy.readthedocs.io/en/latest/examples/10_PDEFIND_examples/example.html#Test-PDE-functionality-on-Burgers'-equation>) with several implementations for the Sparse Identification of Nonlinear Dynamical systems (SINDy) method introduced in Brunton et al. (2016)"
   ]
  },
  {
   "cell_type": "code",
   "execution_count": 62,
   "id": "3d7d2bc5-6e7c-432c-a201-fa823154b969",
   "metadata": {},
   "outputs": [],
   "source": [
    "import matplotlib.pyplot as plt\n",
    "from matplotlib.cm import rainbow\n",
    "from mpl_toolkits.mplot3d import Axes3D\n",
    "from scipy.integrate import solve_ivp\n",
    "from scipy.io import loadmat\n",
    "import pysindy as ps\n",
    "from pysindy.utils import linear_damped_SHO\n",
    "from pysindy.utils import cubic_damped_SHO\n",
    "from pysindy.utils import linear_3D\n",
    "from pysindy.utils import hopf\n",
    "from pysindy.utils import lorenz\n",
    "import warnings\n",
    "import numpy as np\n",
    "# Seed for reproducibility\n",
    "np.random.seed(1000)\n",
    "# ignore user warnings\n",
    "warnings.filterwarnings(\"ignore\", category=UserWarning)"
   ]
  },
  {
   "cell_type": "markdown",
   "id": "6b7fb851-37b3-4920-aa4b-5cda9fe890ae",
   "metadata": {},
   "source": [
    "The \"burgers_shock.mat\" dataset is the same as that used by Raissi et al. (2019):"
   ]
  },
  {
   "cell_type": "code",
   "execution_count": 63,
   "id": "edd90291-db29-49cd-884c-fe9b8371d3b1",
   "metadata": {
    "scrolled": true
   },
   "outputs": [],
   "source": [
    "# Load data from .mat file\n",
    "data = loadmat('data/burgers_shock.mat')\n",
    "t = np.ravel(data['t'])\n",
    "x = np.ravel(data['x'])\n",
    "u = np.real(data['usol'])\n",
    "dt = t[1] - t[0]\n",
    "dx = x[1] - x[0]"
   ]
  },
  {
   "cell_type": "markdown",
   "id": "a0598314-b52c-48c3-8fcd-0eb171bae1bf",
   "metadata": {},
   "source": [
    "Show the dataset:"
   ]
  },
  {
   "cell_type": "code",
   "execution_count": 64,
   "id": "a8c76a26-787e-4eb3-88de-b9cb0cb65a73",
   "metadata": {
    "scrolled": true
   },
   "outputs": [
    {
     "data": {
      "image/png": "[encoded data removed]",
      "text/plain": [
       "<Figure size 600x120 with 1 Axes>"
      ]
     },
     "metadata": {},
     "output_type": "display_data"
    }
   ],
   "source": [
    "# Plot u\n",
    "plt.figure(figsize=(6, 1.2))\n",
    "plt.pcolormesh(t, x, u)\n",
    "plt.xlabel('t', fontsize=10)\n",
    "plt.ylabel('x', fontsize=10)\n",
    "plt.title(r'$u(x, t)$', fontsize=10)\n",
    "plt.show()"
   ]
  },
  {
   "cell_type": "markdown",
   "id": "0cf0b08f-bdba-467c-9872-47756e6221be",
   "metadata": {},
   "source": [
    "### Solve the equation (inverse problem)"
   ]
  },
  {
   "cell_type": "code",
   "execution_count": 65,
   "id": "ac6e95b5-01fc-4447-9cb8-f5f7feb1aab4",
   "metadata": {},
   "outputs": [],
   "source": [
    "u = u.reshape(len(x), len(t), 1)\n",
    "library_functions = [lambda x: x, lambda x: x * x]\n",
    "library_function_names = [lambda x: x, lambda x: x + x]"
   ]
  },
  {
   "cell_type": "code",
   "execution_count": 68,
   "id": "78367641-7567-4312-bbd2-6e219df0a97b",
   "metadata": {},
   "outputs": [
    {
     "name": "stdout",
     "output_type": "stream",
     "text": [
      "Correct PDE: (u)' = 0.003183 u_11 - uu_1\n",
      "Identified PDE using the STLSQ model: \n",
      "(u)' = 0.00395 u_11 + -1.00833 uu_1 + 0.00126 uuu_11\n"
     ]
    }
   ],
   "source": [
    "pde_lib = ps.PDELibrary(library_functions=library_functions,\n",
    "                        function_names=library_function_names,\n",
    "                        derivative_order=3,\n",
    "                        spatial_grid=x,\n",
    "                        is_uniform=True)\n",
    "optimizer = ps.STLSQ(threshold=2, alpha=1e-5, normalize_columns=True)\n",
    "model = ps.SINDy(feature_library=pde_lib,\n",
    "                 optimizer=optimizer,\n",
    "                 feature_names=[\"u\"])\n",
    "model.fit(u, t=dt)\n",
    "print(\"Correct PDE: (u)' = 0.003183 u_11 - uu_1\")\n",
    "print('Identified PDE using the STLSQ model: ')\n",
    "model.print(precision=5)"
   ]
  },
  {
   "cell_type": "markdown",
   "id": "4072a26b-77ba-4666-9f9d-04a56071297f",
   "metadata": {},
   "source": [
    "The original equation is $u_t = 0.1 u_{xx} - uu_x$, meaning:\n",
    "\n",
    "$\\displaystyle \\frac{\\partial u}{\\partial t} = 0.1 \\frac{\\partial^2u}{\\partial x^2} - u \\frac{\\partial u}{\\partial x}$"
   ]
  },
  {
   "cell_type": "markdown",
   "id": "7a0b0214-8263-4209-bc0e-5fc7749d2029",
   "metadata": {},
   "source": [
    "The original Burgers equation is\n",
    "\n",
    "$$\n",
    "\\displaystyle \\frac{\\partial u}{\\partial t} = \\nu \\frac{\\partial^2 u}{\\partial x^2} - u \\frac{\\partial u}{\\partial x}\n",
    "$$\n",
    "\n",
    "for -1.0 < $x$ < +1.0\n",
    "\n",
    "and $t$ > 0\n",
    "\n",
    "Initial conditions are $u(x, 0) = - \\sin(\\pi x)$\n",
    "\n",
    "Boundary conditions are $u(-1, t) = u(+1, t) = 0$\n",
    "\n",
    "The viscosity parameter $\\nu$ is taken to be $\\frac{0.01}{\\pi} = 0.003183$"
   ]
  },
  {
   "cell_type": "markdown",
   "id": "a393439e-0855-4e4c-98f8-1d30e8700a6f",
   "metadata": {},
   "source": [
    "The differential operator parameter $\\lambda_1$ (or $u$) is the speed of fluid at the indicated spatial and temporal coordinates, the differential operator parameter $\\lambda_2$ (or $\\nu$) is the kinematic viscosity of fluid, and the subscripts denote partial differentiation in time and space, respectively, as\n",
    "$u_t$ (which denotes $\\frac{du}{dt}$), \n",
    "$u_x$ (which denotes $\\frac{du}{dx}$), and \n",
    "$u_{xx}$ (which denotes $\\frac{d^2u}{dx^2}$)."
   ]
  },
  {
   "cell_type": "markdown",
   "id": "d663f516-ebfb-47c0-b8c6-cc2e8013b8c3",
   "metadata": {},
   "source": [
    "## References\n",
    "\n",
    "Brunton, S. L., Proctor, J. L., & Kutz, J. N. (2016). Discovering governing equations from data by sparse identification of nonlinear dynamical systems. Proceedings of the National Academy of Sciences, 113(15), 3932–3937. https://doi.org/10.1073/pnas.1517384113\n",
    "\n",
    "Raissi, M., Perdikaris, P., & Karniadakis, G. E. (2019). Physics-informed neural networks: A deep learning framework for solving forward and inverse problems involving nonlinear partial differential equations. Journal of Computational Physics, 378, 686–707. https://doi.org/10.1016/j.jcp.2018.10.045\n"
   ]
  },
  {
   "cell_type": "code",
   "execution_count": null,
   "id": "005ae95d-1be8-4b3c-a654-2d776425b9c2",
   "metadata": {},
   "outputs": [],
   "source": []
  }
 ],
 "metadata": {
  "kernelspec": {
   "display_name": "psin",
   "language": "python",
   "name": "psin"
  },
  "language_info": {
   "codemirror_mode": {
    "name": "ipython",
    "version": 3
   },
   "file_extension": ".py",
   "mimetype": "text/x-python",
   "name": "python",
   "nbconvert_exporter": "python",
   "pygments_lexer": "ipython3",
   "version": "3.12.2"
  }
 },
 "nbformat": 4,
 "nbformat_minor": 5
}
