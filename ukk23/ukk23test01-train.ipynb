{
 "cells": [
  {
   "cell_type": "markdown",
   "id": "f1c7506c-6d94-4e57-a197-16d55e0fa61c",
   "metadata": {},
   "source": [
    "# RTE+RRTMGP-NN training\n",
    "\n",
    "*2024-07-23*\n",
    "\n",
    "This Notebook generates files containing the neural network (NN) model that is later used in the RTE+RRTMGP-NN model. The implementation uses TensorFlow and Python, and Fortran routines are used to generate the training data set. The idea is to replace the RRTMGP lookup tables with NN. The code and data from Ukkonen & Hogan (2023) need to be installed for the Notebook to work. And after training, the model is saved to disk using two file formats, HDF5 and netCDF. The main code (RTE+RRTMGP) is written in Fortan, including the part that makes the prediction from the NN model.\n",
    "\n",
    "Based on:\n",
    "\n",
    "- Ukkonen, P., & Hogan, R. J. (2023). Implementation of a machine-learned gas optics parameterization in the ECMWF Integrated Forecasting System: RRTMGP-NN 2.0. Geoscientific Model Development, 16(11), 3241–3261. https://doi.org/10.5194/gmd-16-3241-2023\n",
    "- Most of the code and data came from the links:\n",
    "    - <https://github.com/peterukk/rte-rrtmgp-nn>\n",
    "    - <https://doi.org/10.5281/zenodo.7413935>\n",
    "- Additional information, code and data can be obtained from::\n",
    "    - <https://doi.org/10.5281/zenodo.6576680>\n",
    "    - <https://doi.org/10.5281/zenodo.7148329>\n",
    "    - <https://zenodo.org/records/7413935>\n",
    "    - <https://zenodo.org/records/7413952>\n",
    "    - <https://zenodo.org/records/7852526>\n",
    "\n",
    "Notes:\n",
    "\n",
    "- The dataset, due to its size, is not hosted in this repository, and must be downloaded from the links above, and placed in the corresponding directories.\n",
    "- The documentation is described in the work of Ukkonen & Hogan.\n",
    "- In this Notebook, the base directory where the code and data are located is `ukk23test01/`.\n",
    "- The training, which uses TensorFlow, is located in the `examples/rrtmgp-nn-training/` directory.\n",
    "- This Notebook itself is located outside the base directory, one level below.\n",
    "- The machine has 16 GB RAM, an NVIDIA GPU with 4 GB VRAM, and a 2-core Intel processor.\n",
    "- Training data is generated from RRTMGP.\n",
    "- To perform the prediction, \"g-point\" vectors are used, containing:\n",
    "    - LW\n",
    "        - Planck fraction, absorption cross-section, or both\n",
    "    - SW\n",
    "        - Absorption cross-section, or Rayleigh cross-section\n",
    "- Models are saved to `../../neural/data` with a file name containing the custom radiation scores."
   ]
  },
  {
   "cell_type": "markdown",
   "id": "858de0d7-e756-4792-9557-96286b26a2b0",
   "metadata": {},
   "source": [
    "## Dataset\n",
    "\n",
    "Due to space footprint, the datasets and their respective repositories are not hosted in this GitHub repository, and need to be recreated from the links above. Some data files are created during the execution of the routines, such as the NN training data set. The data directories are:\n",
    "\n",
    "- neural/data\n",
    "- rrtmgp/data\n",
    "- examples/rfmip-clear-sky/data\n",
    "- examples/rfmip-clear-sky/output_fluxes\n",
    "- examples/rrtmgp-nn-training/data\n",
    "- examples/rrtmgp-nn-training/inputs_to_RRTMGP"
   ]
  },
  {
   "cell_type": "markdown",
   "id": "32ce390d-2c53-440f-a80c-c69059efd7b2",
   "metadata": {},
   "source": [
    "## Dependencies"
   ]
  },
  {
   "cell_type": "markdown",
   "id": "c47a2866-8f8b-4ee0-bc08-d3dedb81d68a",
   "metadata": {},
   "source": [
    "Fortran and dependencies:\n",
    "\n",
    "```bash\n",
    "apt install gfortran libopenblas-dev libnetcdf-dev libnetcdff-dev\n",
    "```\n",
    "\n",
    "Python dependencies:\n",
    "  - python=3.12\n",
    "  - numba\n",
    "  - tbb\n",
    "  - netcdf4\n",
    "  - pip:\n",
    "    - tensorflow==2.16.*"
   ]
  },
  {
   "cell_type": "markdown",
   "id": "e64309ba-f34e-484d-95a7-77213a286e17",
   "metadata": {},
   "source": [
    "## Go to work dir"
   ]
  },
  {
   "cell_type": "code",
   "execution_count": 1,
   "id": "07e1d7ac-1a6d-4adf-b07d-f6d851a47ae6",
   "metadata": {
    "scrolled": true
   },
   "outputs": [
    {
     "name": "stdout",
     "output_type": "stream",
     "text": [
      "/home/x/github/ml/ukk23/ukk23test01/examples/rrtmgp-nn-training\n"
     ]
    }
   ],
   "source": [
    "%cd ukk23test01/examples/rrtmgp-nn-training/"
   ]
  },
  {
   "cell_type": "markdown",
   "id": "4cf825da-0a01-4ce1-855e-e178127a4dd6",
   "metadata": {},
   "source": [
    "## Build the Fortran code"
   ]
  },
  {
   "cell_type": "markdown",
   "id": "12f42ed7-b10d-47bf-a51b-166c3413bece",
   "metadata": {},
   "source": [
    "Environment variables configuration:"
   ]
  },
  {
   "cell_type": "code",
   "execution_count": 2,
   "id": "3a6d026e-4887-4821-9b79-b8e7c0707bda",
   "metadata": {},
   "outputs": [
    {
     "name": "stdout",
     "output_type": "stream",
     "text": [
      "env: FC=gfortran\n",
      "env: FCFLAGS=-ffree-line-length-none -m64 -march=native -O3 -lcurl\n",
      "env: NCHOME=/usr\n",
      "env: NFHOME=/usr\n",
      "env: BLASLIB=openblas\n"
     ]
    }
   ],
   "source": [
    "%env FC=gfortran\n",
    "%env FCFLAGS=-ffree-line-length-none -m64 -march=native -O3 -lcurl\n",
    "%env NCHOME=/usr\n",
    "%env NFHOME=/usr\n",
    "%env BLASLIB=openblas"
   ]
  },
  {
   "cell_type": "code",
   "execution_count": 2,
   "id": "0a9df88f-ab49-484a-b7a4-bb85f9a3247d",
   "metadata": {
    "scrolled": true
   },
   "outputs": [
    {
     "name": "stdout",
     "output_type": "stream",
     "text": [
      "VAR=\"../../\"\n",
      "make: Nothing to be done for 'all'.\n"
     ]
    }
   ],
   "source": [
    "! make"
   ]
  },
  {
   "cell_type": "markdown",
   "id": "18bd2314-2e55-49f2-96a4-2f8e2ff7b011",
   "metadata": {},
   "source": [
    "- The executable command format is: `./rrtmgp_lw_gendata_rfmipstyle [block_size] [input file] [k-distribution file] [input-output file]`"
   ]
  },
  {
   "cell_type": "markdown",
   "id": "9a7a7e69-423d-45c2-8942-35da6cda1404",
   "metadata": {},
   "source": [
    "Once built, the next step is to generate the training data."
   ]
  },
  {
   "cell_type": "markdown",
   "id": "b3a68f9c-e7db-44ef-b32e-fb56be45c34a",
   "metadata": {},
   "source": [
    "### Block_size\n",
    "\n",
    "- The block size is the number of columns to be computed at a time, and must be an integer such that the remainder of dividing `ncol*nexp` by `block_size` is zero.\n",
    "- `block_size = 3` worked in all cases:"
   ]
  },
  {
   "cell_type": "markdown",
   "id": "03b51d32-1d9d-478e-b6ee-b468c93680d9",
   "metadata": {},
   "source": [
    "## Training data generation\n",
    "\n",
    "Using Fortran executables"
   ]
  },
  {
   "cell_type": "code",
   "execution_count": 33,
   "id": "dcf930c3-d1cc-485a-8a43-e14bfe0bae40",
   "metadata": {
    "scrolled": true
   },
   "outputs": [
    {
     "name": "stdout",
     "output_type": "stream",
     "text": [
      " Usage: rrtmgp_rfmip_lw [block_size] [rfmip_file] [k-distribution_file] input_output file]\n",
      " input fileinputs_to_RRTMGP/inputs_Garand_BIG.nc                                                                                               \n",
      " ncol:          42 nexp:         322 nlay:          42\n",
      " Doing         4508 blocks of size            3\n",
      " Calculation uses gases: water_vapor ozone carbon_dioxide methane nitrous_oxide oxygen nitrogen cfc11 cfc12 carbon_monoxide carbon_tetrachloride hcfc22 hfc143a hfc125 hfc23 hfc32 hfc134a cf4 \n",
      " min of play   19.2751713     k_dist%get_press_min()   1.00518358    \n",
      " -------------------------------------------------------------------------\n",
      " starting clear-sky longwave computations\n",
      " Finished with computations!\n",
      " mean of flux_down is:   84.6862488    \n",
      " mean of flux_up is:   277.106110    \n",
      " -------------------------------------------------------------------------\n",
      " Attempting to save RRTMGP input/output to data/ml_training_lw_g128_Garand_BIG.nc                                                                                              \n",
      " RRTMGP inputs (gas concs + T + p) were successfully saved\n",
      " Optical properties (RRTMGP output) were successfully saved. All done!\n",
      " -------------------------------------------------------------------------\n"
     ]
    }
   ],
   "source": [
    "%%bash\n",
    "./rrtmgp_lw_gendata_rfmipstyle \\\n",
    "    3 \\\n",
    "    inputs_to_RRTMGP/inputs_Garand_BIG.nc \\\n",
    "    ../../rrtmgp/data/rrtmgp-data-lw-g128-210809.nc \\\n",
    "    data/ml_training_lw_g128_Garand_BIG.nc"
   ]
  },
  {
   "cell_type": "code",
   "execution_count": 35,
   "id": "c6d6978b-7510-421d-b57d-ff304bff89b1",
   "metadata": {
    "scrolled": true
   },
   "outputs": [
    {
     "name": "stdout",
     "output_type": "stream",
     "text": [
      " Usage: rrtmgp_rfmip_lw [block_size] [rfmip_file] [k-distribution_file] input_output file]\n",
      " input fileinputs_to_RRTMGP/inputs_AMON_ssp245_ssp585_2054_2100.nc                                                                             \n",
      " ncol:         420 nexp:         200 nlay:          19\n",
      " Doing        28000 blocks of size            3\n",
      " Calculation uses gases: water_vapor ozone carbon_dioxide methane nitrous_oxide oxygen nitrogen cfc11 cfc12 carbon_monoxide carbon_tetrachloride hcfc22 hfc143a hfc125 hfc23 hfc32 hfc134a cf4 \n",
      " min of play   100.000000     k_dist%get_press_min()   1.00518358    \n",
      " -------------------------------------------------------------------------\n",
      " starting clear-sky longwave computations\n",
      " Finished with computations!\n",
      " mean of flux_down is:   83.7984009    \n",
      " mean of flux_up is:   279.662506    \n",
      " -------------------------------------------------------------------------\n",
      " Attempting to save RRTMGP input/output to data/ml_training_lw_g128_AMON_ssp245_ssp585_2054_2100.nc                                                                            \n",
      " RRTMGP inputs (gas concs + T + p) were successfully saved\n",
      " Optical properties (RRTMGP output) were successfully saved. All done!\n",
      " -------------------------------------------------------------------------\n"
     ]
    }
   ],
   "source": [
    "%%bash\n",
    "./rrtmgp_lw_gendata_rfmipstyle \\\n",
    "    3 \\\n",
    "    inputs_to_RRTMGP/inputs_AMON_ssp245_ssp585_2054_2100.nc \\\n",
    "    ../../rrtmgp/data/rrtmgp-data-lw-g128-210809.nc \\\n",
    "    data/ml_training_lw_g128_AMON_ssp245_ssp585_2054_2100.nc"
   ]
  },
  {
   "cell_type": "code",
   "execution_count": 36,
   "id": "f60b4f93-65f8-4ea8-898d-5d393e7282e8",
   "metadata": {
    "scrolled": true
   },
   "outputs": [
    {
     "name": "stdout",
     "output_type": "stream",
     "text": [
      " Usage: rrtmgp_rfmip_lw [block_size] [rfmip_file] [k-distribution_file] input_output file]\n",
      " input fileinputs_to_RRTMGP/inputs_CAMS_new_CKDMIPstyle.nc                                                                                     \n",
      " ncol:        1000 nexp:          42 nlay:          60\n",
      " Doing        14000 blocks of size            3\n",
      " Calculation uses gases: water_vapor ozone carbon_dioxide methane nitrous_oxide oxygen nitrogen cfc11 cfc12 carbon_monoxide carbon_tetrachloride hcfc22 hfc143a hfc125 hfc23 hfc32 hfc134a cf4 \n",
      " min of play   10.0000000     k_dist%get_press_min()   1.00518358    \n",
      " -------------------------------------------------------------------------\n",
      " starting clear-sky longwave computations\n",
      " Finished with computations!\n",
      " mean of flux_down is:   94.9205475    \n",
      " mean of flux_up is:   257.382263    \n",
      " -------------------------------------------------------------------------\n",
      " Attempting to save RRTMGP input/output to data/ml_training_lw_g128_CAMS_new_CKDMIPstyle.nc                                                                                    \n",
      " RRTMGP inputs (gas concs + T + p) were successfully saved\n",
      " Optical properties (RRTMGP output) were successfully saved. All done!\n",
      " -------------------------------------------------------------------------\n"
     ]
    }
   ],
   "source": [
    "%%bash\n",
    "./rrtmgp_lw_gendata_rfmipstyle \\\n",
    "    3 \\\n",
    "    inputs_to_RRTMGP/inputs_CAMS_new_CKDMIPstyle.nc \\\n",
    "    ../../rrtmgp/data/rrtmgp-data-lw-g128-210809.nc \\\n",
    "    data/ml_training_lw_g128_CAMS_new_CKDMIPstyle.nc"
   ]
  },
  {
   "cell_type": "code",
   "execution_count": 37,
   "id": "bcd96a42-7dcb-44a1-a656-02cca5974e47",
   "metadata": {
    "scrolled": true
   },
   "outputs": [
    {
     "name": "stdout",
     "output_type": "stream",
     "text": [
      " Usage: rrtmgp_rfmip_lw [block_size] [rfmip_file] [k-distribution_file] input_output file]\n",
      " input fileinputs_to_RRTMGP/inputs_CKDMIP-MM-Big.nc                                                                                            \n",
      " ncol:         243 nexp:          58 nlay:          52\n",
      " Doing         4698 blocks of size            3\n",
      " Calculation uses gases: water_vapor ozone carbon_dioxide methane nitrous_oxide oxygen nitrogen cfc11 cfc12 carbon_monoxide carbon_tetrachloride hcfc22 hfc143a hfc125 hfc23 hfc32 hfc134a cf4 \n",
      " min of play  0.504999995     k_dist%get_press_min()   1.00518358    \n",
      " -------------------------------------------------------------------------\n",
      " starting clear-sky longwave computations\n",
      " Finished with computations!\n",
      " mean of flux_down is:   39.1128159    \n",
      " mean of flux_up is:   281.537994    \n",
      " -------------------------------------------------------------------------\n",
      " Attempting to save RRTMGP input/output to data/ml_training_lw_g128_CKDMIP-MMM-Big.nc                                                                                          \n",
      " RRTMGP inputs (gas concs + T + p) were successfully saved\n",
      " Optical properties (RRTMGP output) were successfully saved. All done!\n",
      " -------------------------------------------------------------------------\n"
     ]
    }
   ],
   "source": [
    "%%bash\n",
    "./rrtmgp_lw_gendata_rfmipstyle \\\n",
    "    3 \\\n",
    "    inputs_to_RRTMGP/inputs_CKDMIP-MM-Big.nc \\\n",
    "    ../../rrtmgp/data/rrtmgp-data-lw-g128-210809.nc \\\n",
    "    data/ml_training_lw_g128_CKDMIP-MMM-Big.nc"
   ]
  },
  {
   "cell_type": "markdown",
   "id": "6d064d9f-1163-446f-bfab-554578ff4895",
   "metadata": {},
   "source": [
    "## Training using TensorFlow"
   ]
  },
  {
   "cell_type": "markdown",
   "id": "f923646e-c620-44b4-b2ab-992fea09facc",
   "metadata": {},
   "source": [
    "Loading the libraries:"
   ]
  },
  {
   "cell_type": "code",
   "execution_count": 2,
   "id": "819e481b-9147-4e84-9551-58559663ee6c",
   "metadata": {},
   "outputs": [
    {
     "name": "stderr",
     "output_type": "stream",
     "text": [
      "2024-07-23 22:54:40.449145: E external/local_xla/xla/stream_executor/cuda/cuda_fft.cc:479] Unable to register cuFFT factory: Attempting to register factory for plugin cuFFT when one has already been registered\n",
      "2024-07-23 22:54:40.470806: E external/local_xla/xla/stream_executor/cuda/cuda_dnn.cc:10575] Unable to register cuDNN factory: Attempting to register factory for plugin cuDNN when one has already been registered\n",
      "2024-07-23 22:54:40.470840: E external/local_xla/xla/stream_executor/cuda/cuda_blas.cc:1442] Unable to register cuBLAS factory: Attempting to register factory for plugin cuBLAS when one has already been registered\n",
      "2024-07-23 22:54:40.484579: I tensorflow/core/platform/cpu_feature_guard.cc:210] This TensorFlow binary is optimized to use available CPU instructions in performance-critical operations.\n",
      "To enable the following instructions: AVX2 FMA, in other operations, rebuild TensorFlow with the appropriate compiler flags.\n"
     ]
    }
   ],
   "source": [
    "import tensorflow as tf\n",
    "from tensorflow.keras import losses, optimizers"
   ]
  },
  {
   "cell_type": "markdown",
   "id": "fc7f1fab-0933-4f25-954d-000b254fdb75",
   "metadata": {},
   "source": [
    "Checks GPU availability:"
   ]
  },
  {
   "cell_type": "code",
   "execution_count": 3,
   "id": "871db00b-e405-42b9-a666-f5383ab938d1",
   "metadata": {},
   "outputs": [
    {
     "name": "stdout",
     "output_type": "stream",
     "text": [
      "[PhysicalDevice(name='/physical_device:GPU:0', device_type='GPU')]\n"
     ]
    },
    {
     "name": "stderr",
     "output_type": "stream",
     "text": [
      "2024-07-23 22:54:46.866999: I external/local_xla/xla/stream_executor/cuda/cuda_executor.cc:998] successful NUMA node read from SysFS had negative value (-1), but there must be at least one NUMA node, so returning NUMA node zero. See more at https://github.com/torvalds/linux/blob/v6.0/Documentation/ABI/testing/sysfs-bus-pci#L344-L355\n",
      "2024-07-23 22:54:46.915499: I external/local_xla/xla/stream_executor/cuda/cuda_executor.cc:998] successful NUMA node read from SysFS had negative value (-1), but there must be at least one NUMA node, so returning NUMA node zero. See more at https://github.com/torvalds/linux/blob/v6.0/Documentation/ABI/testing/sysfs-bus-pci#L344-L355\n",
      "2024-07-23 22:54:46.915856: I external/local_xla/xla/stream_executor/cuda/cuda_executor.cc:998] successful NUMA node read from SysFS had negative value (-1), but there must be at least one NUMA node, so returning NUMA node zero. See more at https://github.com/torvalds/linux/blob/v6.0/Documentation/ABI/testing/sysfs-bus-pci#L344-L355\n"
     ]
    }
   ],
   "source": [
    "print(tf.config.list_physical_devices(\"GPU\"))"
   ]
  },
  {
   "cell_type": "code",
   "execution_count": 4,
   "id": "bfdcdebc-472a-47d3-8031-aca2d1834801",
   "metadata": {},
   "outputs": [],
   "source": [
    "import os\n",
    "import sys\n",
    "import numpy as np"
   ]
  },
  {
   "cell_type": "markdown",
   "id": "ee60a8c6-1d59-41be-86be-8f12cfe3203a",
   "metadata": {},
   "source": [
    "Load routines contained in code files in the working directory:"
   ]
  },
  {
   "cell_type": "code",
   "execution_count": 5,
   "id": "147feb06-e00d-444a-864a-883d3238a477",
   "metadata": {},
   "outputs": [],
   "source": [
    "from ml_load_save_preproc import (\n",
    "    save_model_netcdf,\n",
    "    load_rrtmgp,\n",
    "    scale_outputs_wrapper,\n",
    "    preproc_pow_standardization_reverse,\n",
    "    preproc_tau_to_crossection,\n",
    "    preproc_minmax_inputs_rrtmgp,\n",
    ")"
   ]
  },
  {
   "cell_type": "code",
   "execution_count": 6,
   "id": "d5ba5329-09e8-4f19-b9bf-a850a2c56402",
   "metadata": {},
   "outputs": [],
   "source": [
    "from ml_scaling_coefficients import xcoeffs_all, input_names_all"
   ]
  },
  {
   "cell_type": "code",
   "execution_count": 7,
   "id": "1ad673d7-b02e-4237-80db-c0952c081f00",
   "metadata": {},
   "outputs": [],
   "source": [
    "from ml_trainfuncs_keras import (\n",
    "    create_model_mlp,\n",
    "    expdiff,\n",
    "    hybrid_loss_wrapper,\n",
    ")"
   ]
  },
  {
   "cell_type": "markdown",
   "id": "d80f74d4-34e1-4928-91c9-c9e93028c50d",
   "metadata": {},
   "source": [
    "## Routine for concatenating existing datasets containing raw inputs and outputs"
   ]
  },
  {
   "cell_type": "code",
   "execution_count": 12,
   "id": "f1a52f67-dbd6-4447-8877-1fac25b3e28f",
   "metadata": {},
   "outputs": [],
   "source": [
    "def add_dataset(fpath, predictand, expfirst, x, y, col_dry, input_names, kdist,\n",
    "                data_str):\n",
    "    x_new, y_new, col_dry_new, input_names_new, kdist_new = load_rrtmgp(\n",
    "        fpath, predictand, expfirst=expfirst)\n",
    "    if not (kdist == kdist_new):\n",
    "        print(\"Kdist does not match previous dataset!\")\n",
    "        return None\n",
    "    if not (input_names == input_names_new):\n",
    "        print(\"Input_names does not match previous dataset!\")\n",
    "        return None\n",
    "    ns = x.shape[0]\n",
    "    x = np.concatenate((x, x_new), axis=0)\n",
    "    y = np.concatenate((y, y_new), axis=0)\n",
    "    col_dry = np.concatenate((col_dry, col_dry_new), axis=0)\n",
    "    print(\"{:.2e} samples previously, {:.2e} after adding data from: {}\".format(\n",
    "        ns, x.shape[0],\n",
    "        fpath.split(\"/\")[-1]))\n",
    "    data_str = data_str + \" , \" + fpath.split(\"/\")[-1]\n",
    "    return x, y, col_dry, data_str"
   ]
  },
  {
   "cell_type": "markdown",
   "id": "f7443648-1ba8-4e1c-8515-60b831927cb1",
   "metadata": {},
   "source": [
    "## Provide data containing inputs and outputs"
   ]
  },
  {
   "cell_type": "code",
   "execution_count": 13,
   "id": "72827141-0cd2-4fa6-acd9-949a5ccacc0d",
   "metadata": {},
   "outputs": [],
   "source": [
    "datadir = \"data/\"\n",
    "fpath  = datadir + \"ml_training_lw_g128_Garand_BIG.nc\"\n",
    "fpath2 = datadir + \"ml_training_lw_g128_AMON_ssp245_ssp585_2054_2100.nc\"\n",
    "fpath3 = datadir + \"ml_training_lw_g128_CAMS_new_CKDMIPstyle.nc\"\n",
    "fpath4 = datadir + \"ml_training_lw_g128_CKDMIP-MMM-Big.nc\""
   ]
  },
  {
   "cell_type": "markdown",
   "id": "3484691e-8e6c-4e6d-bf9c-00827964b67d",
   "metadata": {},
   "source": [
    "- Profiles used:\n",
    "    - Expanded Garand\n",
    "    - GCM data (AMON_...)\n",
    "    - CAMS data\n",
    "    - Extended CKDMIP-Average-Maximum-Minimum profiles\n",
    "- RFMIP ised used for validation."
   ]
  },
  {
   "cell_type": "code",
   "execution_count": 14,
   "id": "77de03ef-dc8d-40d5-af2f-e3043ce7d1bc",
   "metadata": {},
   "outputs": [],
   "source": [
    "fpaths = [fpath, fpath2, fpath3, fpath4]"
   ]
  },
  {
   "cell_type": "markdown",
   "id": "93a00505-88c1-467c-84f2-2cb36a4537e8",
   "metadata": {},
   "source": [
    "## Configure predictand, NN complexity, etc"
   ]
  },
  {
   "cell_type": "code",
   "execution_count": 15,
   "id": "5004c372-7a79-4ae9-9b7d-dabe0bc7b24f",
   "metadata": {},
   "outputs": [],
   "source": [
    "predictand = \"lw_both\""
   ]
  },
  {
   "cell_type": "code",
   "execution_count": 16,
   "id": "a6726cf6-7566-48b6-a48b-4b8958ffb8eb",
   "metadata": {},
   "outputs": [],
   "source": [
    "scaling_method = \"Ukkonen2020\"  # only option currently"
   ]
  },
  {
   "cell_type": "markdown",
   "id": "1bcd2e09-2f91-406d-9a84-55a78374bf5b",
   "metadata": {},
   "source": [
    "For `use_existing_input_scaling_coefficients` True is generally a safe choice, min max coefficients have been computed using a large dataset spanning both LGM (Last Glacial Maximum) and high future emissions scenarios. However, check that your scaled inputs fall somewhere in the 0-1 range. Negative values in particular might cause problems:"
   ]
  },
  {
   "cell_type": "code",
   "execution_count": 17,
   "id": "76e3cafe-24c6-453a-8383-1516ceb99ac1",
   "metadata": {},
   "outputs": [],
   "source": [
    "use_existing_input_scaling_coefficients = True"
   ]
  },
  {
   "cell_type": "markdown",
   "id": "e9f9bd90-7724-4c38-8877-7b66b97c11ad",
   "metadata": {},
   "source": [
    "## Loss function, metrics"
   ]
  },
  {
   "cell_type": "code",
   "execution_count": 19,
   "id": "035260ff-4a00-4883-8467-7f40cf832d48",
   "metadata": {},
   "outputs": [],
   "source": [
    "patience = 70\n",
    "epochs = 200"
   ]
  },
  {
   "cell_type": "code",
   "execution_count": 20,
   "id": "dd9e1e2d-f689-4131-bc2a-9c8dfb0000f7",
   "metadata": {},
   "outputs": [],
   "source": [
    "lossfunc = losses.MeanSquaredError\n",
    "mymetrics = [\"mean_absolute_error\"]\n",
    "expfirst = False"
   ]
  },
  {
   "cell_type": "markdown",
   "id": "7f934a9a-dae0-424b-beee-6e8f566ee156",
   "metadata": {},
   "source": [
    "## Batch size and learning rate"
   ]
  },
  {
   "cell_type": "code",
   "execution_count": 21,
   "id": "cac4ed6c-f2fe-44fb-8c24-e69f624b1fba",
   "metadata": {},
   "outputs": [],
   "source": [
    "lr = 0.001\n",
    "batch_size = 2048"
   ]
  },
  {
   "cell_type": "markdown",
   "id": "c4cba823-a25c-41e3-a8de-44dbeef1627e",
   "metadata": {},
   "source": [
    "## NN Hyperparameters"
   ]
  },
  {
   "cell_type": "markdown",
   "id": "268d0766-9834-45f0-91a1-d7c59ffff63b",
   "metadata": {},
   "source": [
    "Number of neurons in each hidden layer:"
   ]
  },
  {
   "cell_type": "code",
   "execution_count": 22,
   "id": "29c2738b-dd68-4960-aac6-45ad3f49b067",
   "metadata": {},
   "outputs": [],
   "source": [
    "neurons = [72, 72]"
   ]
  },
  {
   "cell_type": "markdown",
   "id": "84d971ce-d371-4dca-9f93-17b30a631d23",
   "metadata": {},
   "source": [
    "Activation functions used after each layer: first the input layer, and then the hidden layers:"
   ]
  },
  {
   "cell_type": "code",
   "execution_count": 23,
   "id": "0e382ac8-751a-4046-8e40-c05308688f4d",
   "metadata": {},
   "outputs": [],
   "source": [
    "activ = [\"softsign\", \"softsign\", \"linear\"]"
   ]
  },
  {
   "cell_type": "code",
   "execution_count": 24,
   "id": "74ed57aa-cb2a-432a-8f6a-98fc083edcb6",
   "metadata": {},
   "outputs": [],
   "source": [
    "if np.size(activ) != np.size(neurons) + 1:\n",
    "    print(\"Number of activations must be number of hidden layers + 1!\")"
   ]
  },
  {
   "cell_type": "markdown",
   "id": "b3d5a5fd-1669-4113-b61d-0bf41ab888c1",
   "metadata": {},
   "source": [
    "Weight initializer: the default is probably an OK choice  (glorot):"
   ]
  },
  {
   "cell_type": "code",
   "execution_count": 25,
   "id": "023c7f05-81a9-4ba5-9d61-4c211b87ac37",
   "metadata": {},
   "outputs": [],
   "source": [
    "initializer = \"glorot_uniform\""
   ]
  },
  {
   "cell_type": "markdown",
   "id": "8a9a4d73-cd66-4045-a104-44e4a07e4e18",
   "metadata": {},
   "source": [
    "## Load data "
   ]
  },
  {
   "cell_type": "markdown",
   "id": "12f64d95-a6e3-408f-807d-a52102275125",
   "metadata": {},
   "source": [
    "Load training data"
   ]
  },
  {
   "cell_type": "code",
   "execution_count": 26,
   "id": "466c44e9-5092-4b9f-ae4a-f7c0d3c118ac",
   "metadata": {},
   "outputs": [
    {
     "name": "stdout",
     "output_type": "stream",
     "text": [
      "input_names found in file\n",
      "there are 13524 profiles in this dataset (322 experiments, 42 columns)\n"
     ]
    }
   ],
   "source": [
    "x_tr_raw, y_tr_raw, col_dry_tr, input_names, kdist = load_rrtmgp(\n",
    "    fpaths[0], predictand, expfirst=expfirst)"
   ]
  },
  {
   "cell_type": "code",
   "execution_count": 27,
   "id": "38134e14-e192-4bcd-a2ee-149df27da73f",
   "metadata": {},
   "outputs": [
    {
     "data": {
      "text/plain": [
       "'ml_training_lw_g128_Garand_BIG.nc'"
      ]
     },
     "execution_count": 27,
     "metadata": {},
     "output_type": "execute_result"
    }
   ],
   "source": [
    "data_str = fpath.split(\"/\")[-1]\n",
    "data_str"
   ]
  },
  {
   "cell_type": "markdown",
   "id": "779afc8b-b83b-457c-b903-6ff8d339c7c0",
   "metadata": {},
   "source": [
    "The full training dataset is split into multiple files:"
   ]
  },
  {
   "cell_type": "code",
   "execution_count": 28,
   "id": "26d02989-844d-4712-8515-67b411e4120c",
   "metadata": {},
   "outputs": [
    {
     "name": "stdout",
     "output_type": "stream",
     "text": [
      "data/ml_training_lw_g128_AMON_ssp245_ssp585_2054_2100.nc\n",
      "data/ml_training_lw_g128_CAMS_new_CKDMIPstyle.nc\n",
      "data/ml_training_lw_g128_CKDMIP-MMM-Big.nc\n"
     ]
    }
   ],
   "source": [
    "for fpath in fpaths[1:]:\n",
    "    print(fpath)"
   ]
  },
  {
   "cell_type": "markdown",
   "id": "3b91355c-5802-4647-b61b-2bac982a1327",
   "metadata": {},
   "source": [
    "Choose a small dataset just for testing (training using the full dataset requires the use of SDumont):"
   ]
  },
  {
   "cell_type": "code",
   "execution_count": 29,
   "id": "8c3fc7e5-8603-4983-8db0-79b39dbaf6db",
   "metadata": {},
   "outputs": [
    {
     "data": {
      "text/plain": [
       "'data/ml_training_lw_g128_CKDMIP-MMM-Big.nc'"
      ]
     },
     "execution_count": 29,
     "metadata": {},
     "output_type": "execute_result"
    }
   ],
   "source": [
    "fpath = fpaths[1:][2]\n",
    "fpath"
   ]
  },
  {
   "cell_type": "code",
   "execution_count": 30,
   "id": "32c94603-ef90-44b6-8cf5-5b17bf53772f",
   "metadata": {},
   "outputs": [
    {
     "name": "stdout",
     "output_type": "stream",
     "text": [
      "input_names found in file\n",
      "there are 14094 profiles in this dataset (58 experiments, 243 columns)\n",
      "5.68e+05 samples previously, 1.30e+06 after adding data from: ml_training_lw_g128_CKDMIP-MMM-Big.nc\n"
     ]
    }
   ],
   "source": [
    "x_tr_raw, y_tr_raw, col_dry_tr, data_str = add_dataset(\n",
    "    fpath,\n",
    "    predictand,\n",
    "    expfirst,\n",
    "    x_tr_raw,\n",
    "    y_tr_raw,\n",
    "    col_dry_tr,\n",
    "    input_names,\n",
    "    kdist,\n",
    "    data_str,\n",
    ")"
   ]
  },
  {
   "cell_type": "markdown",
   "id": "21c18e05-9da4-40db-ba3a-a58233f3f6a5",
   "metadata": {},
   "source": [
    "The full dataset consumes a lot of RAM and VRAM:"
   ]
  },
  {
   "cell_type": "code",
   "execution_count": 31,
   "id": "46d5ca99-74e3-4e75-a30c-994d542130fa",
   "metadata": {
    "jp-MarkdownHeadingCollapsed": true
   },
   "outputs": [],
   "source": [
    "# %%time\n",
    "# # We can have different datasets that we merge\n",
    "# for fpath in fpaths[1:]:\n",
    "#     x_tr_raw, y_tr_raw, col_dry_tr, data_str = add_dataset(\n",
    "#         fpath,\n",
    "#         predictand,\n",
    "#         expfirst,\n",
    "#         x_tr_raw,\n",
    "#         y_tr_raw,\n",
    "#         col_dry_tr,\n",
    "#         input_names,\n",
    "#         kdist,\n",
    "#         data_str,\n",
    "#     )"
   ]
  },
  {
   "cell_type": "code",
   "execution_count": 32,
   "id": "a770f366-6be2-4bd9-8e63-8ec3c9d9bedb",
   "metadata": {},
   "outputs": [],
   "source": [
    "nx = x_tr_raw.shape[1]  # temperature + pressure + gases\n",
    "ny = y_tr_raw.shape[1]  # number of g-points"
   ]
  },
  {
   "cell_type": "code",
   "execution_count": 33,
   "id": "dadbe734-3848-47b5-9c00-0063e56e7040",
   "metadata": {},
   "outputs": [],
   "source": [
    "shuffle = True"
   ]
  },
  {
   "cell_type": "markdown",
   "id": "b30b1057-1e50-4cd9-9397-f2075707e849",
   "metadata": {},
   "source": [
    "It can be a cell that consumes a lot of time and memory, depending on the dataset:"
   ]
  },
  {
   "cell_type": "markdown",
   "id": "0ead75e2-1651-4ace-8a05-49cf64791187",
   "metadata": {},
   "source": [
    "## Input and output scaling"
   ]
  },
  {
   "cell_type": "code",
   "execution_count": 34,
   "id": "e2efafe3-f7b3-4ff7-95f6-a0ab8ede0142",
   "metadata": {},
   "outputs": [
    {
     "name": "stdout",
     "output_type": "stream",
     "text": [
      "CPU times: user 24.8 s, sys: 1.83 s, total: 26.6 s\n",
      "Wall time: 17.4 s\n"
     ]
    }
   ],
   "source": [
    "%%time\n",
    "if scaling_method != \"Ukkonen2020\":\n",
    "    print(\"Only one type of pre-processing currently supported!\")\n",
    "else:\n",
    "    # Input scaling - min-max\n",
    "    if use_existing_input_scaling_coefficients:\n",
    "        if xcoeffs_all == None:\n",
    "            sys.exit(\"Input scaling coefficients (xcoeffs) missing!\")\n",
    "        (xmin_all, xmax_all) = xcoeffs_all\n",
    "        # input_names loaded from file, describes inputs in order of x_tr_raw\n",
    "        # input_names_all corresponds to xmin_all and xmax_all\n",
    "        # Order of inputs may be different than in the existing coefficients,\n",
    "        # account for that by indexing\n",
    "        a = np.array(input_names_all)\n",
    "        b = np.array(input_names)\n",
    "        indices = np.where(b[:, None] == a[None, :])[1]\n",
    "        xmin = xmin_all[indices]\n",
    "        xmax = xmax_all[indices]\n",
    "        x_tr = preproc_minmax_inputs_rrtmgp(x_tr_raw, (xmin, xmax))\n",
    "    else:\n",
    "        x_tr, xmin, xmax = preproc_minmax_inputs_rrtmgp(x_tr_raw)\n",
    "        # Output scaling\n",
    "        # first, do y = y / N if y is optical depth, to get cross-sections\n",
    "        # then, square root scaling y: y=y**(1/nfac); cheaper and weaker version of\n",
    "        # log scaling. nfac = 8 for cross-sections, 2 for Planck fraction\n",
    "        # After this, use standard-scaling (not for Planck fraction)\n",
    "\n",
    "    y_tr, ymean, ystd = scale_outputs_wrapper(y_tr_raw, col_dry_tr, predictand)"
   ]
  },
  {
   "cell_type": "markdown",
   "id": "723e1c98-0c6d-49b1-9914-059771e3e17d",
   "metadata": {},
   "source": [
    "## I/O\n",
    "\n",
    "RRTMGP-NN models are saved as NetCDF files which contain metadata describing how to obtain the physical outputs, as well as the training data"
   ]
  },
  {
   "cell_type": "code",
   "execution_count": 35,
   "id": "58e02e44-d16c-4c61-9f96-fa033653e17b",
   "metadata": {},
   "outputs": [],
   "source": [
    "x_scaling_str = (\n",
    "    \"To get the required NN inputs, do the following: \"\n",
    "    \"x(i) = log(x(i)) for i=pressure; \"\n",
    "    \"x(i) = x(i)**(1/4) for i=H2O and O3; \"\n",
    "    \"x(i) = (x(i) - xmin(i)) / (xmax(i) - xmin(i)) for all inputs\"\n",
    ")\n",
    "y_scaling_str = (\n",
    "    \"Model predicts scaled cross-sections. Given the raw NN output y,\"\n",
    "    \" do the following to obtain optical depth: \"\n",
    "    \"y(igpt,j) = ystd(igpt)*y(igpt,j) + ymean(igpt); y(igpt,j) \"\n",
    "    \"= y(igpt,j)**8; y(igpt,j) = y(igpt,j) * layer_dry_air_molecules(j)\"\n",
    ")"
   ]
  },
  {
   "cell_type": "code",
   "execution_count": 36,
   "id": "85432a67-06c0-4225-955a-ad19bebbebdf",
   "metadata": {},
   "outputs": [],
   "source": [
    "model_str = \"\""
   ]
  },
  {
   "cell_type": "markdown",
   "id": "6d3ec315-72f1-4b0a-8031-d80809489b83",
   "metadata": {},
   "source": [
    "Try to reduce memory consumption:"
   ]
  },
  {
   "cell_type": "code",
   "execution_count": 37,
   "id": "88d42aa6-9e83-46e3-9f90-05fbb065f4a3",
   "metadata": {},
   "outputs": [],
   "source": [
    "import gc"
   ]
  },
  {
   "cell_type": "code",
   "execution_count": 38,
   "id": "b5c6e215-b31a-416c-9c80-d548b75c3fcb",
   "metadata": {},
   "outputs": [
    {
     "data": {
      "text/plain": [
       "38480"
      ]
     },
     "execution_count": 38,
     "metadata": {},
     "output_type": "execute_result"
    }
   ],
   "source": [
    "gc.collect()"
   ]
  },
  {
   "cell_type": "markdown",
   "id": "655fa5c5-dd83-487d-a78b-b1738095b086",
   "metadata": {},
   "source": [
    "## TensorFlow Training\n",
    "\n",
    "Create and compile model"
   ]
  },
  {
   "cell_type": "code",
   "execution_count": 39,
   "id": "b9b5332f-7b32-4154-828f-6e2897e9ea06",
   "metadata": {},
   "outputs": [
    {
     "name": "stdout",
     "output_type": "stream",
     "text": [
      "CPU times: user 115 ms, sys: 84.4 ms, total: 199 ms\n",
      "Wall time: 200 ms\n"
     ]
    },
    {
     "name": "stderr",
     "output_type": "stream",
     "text": [
      "2024-07-23 23:03:15.138618: I external/local_xla/xla/stream_executor/cuda/cuda_executor.cc:998] successful NUMA node read from SysFS had negative value (-1), but there must be at least one NUMA node, so returning NUMA node zero. See more at https://github.com/torvalds/linux/blob/v6.0/Documentation/ABI/testing/sysfs-bus-pci#L344-L355\n",
      "2024-07-23 23:03:15.139147: I external/local_xla/xla/stream_executor/cuda/cuda_executor.cc:998] successful NUMA node read from SysFS had negative value (-1), but there must be at least one NUMA node, so returning NUMA node zero. See more at https://github.com/torvalds/linux/blob/v6.0/Documentation/ABI/testing/sysfs-bus-pci#L344-L355\n",
      "2024-07-23 23:03:15.139595: I external/local_xla/xla/stream_executor/cuda/cuda_executor.cc:998] successful NUMA node read from SysFS had negative value (-1), but there must be at least one NUMA node, so returning NUMA node zero. See more at https://github.com/torvalds/linux/blob/v6.0/Documentation/ABI/testing/sysfs-bus-pci#L344-L355\n",
      "2024-07-23 23:03:15.196623: I external/local_xla/xla/stream_executor/cuda/cuda_executor.cc:998] successful NUMA node read from SysFS had negative value (-1), but there must be at least one NUMA node, so returning NUMA node zero. See more at https://github.com/torvalds/linux/blob/v6.0/Documentation/ABI/testing/sysfs-bus-pci#L344-L355\n",
      "2024-07-23 23:03:15.196894: I external/local_xla/xla/stream_executor/cuda/cuda_executor.cc:998] successful NUMA node read from SysFS had negative value (-1), but there must be at least one NUMA node, so returning NUMA node zero. See more at https://github.com/torvalds/linux/blob/v6.0/Documentation/ABI/testing/sysfs-bus-pci#L344-L355\n",
      "2024-07-23 23:03:15.197150: I external/local_xla/xla/stream_executor/cuda/cuda_executor.cc:998] successful NUMA node read from SysFS had negative value (-1), but there must be at least one NUMA node, so returning NUMA node zero. See more at https://github.com/torvalds/linux/blob/v6.0/Documentation/ABI/testing/sysfs-bus-pci#L344-L355\n",
      "2024-07-23 23:03:15.197358: I tensorflow/core/common_runtime/gpu/gpu_device.cc:1928] Created device /job:localhost/replica:0/task:0/device:GPU:0 with 3507 MB memory:  -> device: 0, name: NVIDIA GeForce 940MX, pci bus id: 0000:01:00.0, compute capability: 5.0\n",
      "/home/x/conda/envs/tf2/lib/python3.12/site-packages/keras/src/layers/core/dense.py:87: UserWarning: Do not pass an `input_shape`/`input_dim` argument to a layer. When using Sequential models, prefer using an `Input(shape)` object as the first layer in the model instead.\n",
      "  super().__init__(activity_regularizer=activity_regularizer, **kwargs)\n"
     ]
    }
   ],
   "source": [
    "%%time\n",
    "devstr = \"/gpu:0\"\n",
    "os.environ[\"CUDA_VISIBLE_DEVICES\"] = \"0\"\n",
    "\n",
    "optim = optimizers.Adam(learning_rate=lr)\n",
    "\n",
    "model = create_model_mlp(nx=nx,\n",
    "                         ny=ny,\n",
    "                         neurons=neurons,\n",
    "                         activ=activ,\n",
    "                         kernel_init=initializer)\n",
    "\n",
    "model.compile(loss=lossfunc, optimizer=optim, metrics=mymetrics)"
   ]
  },
  {
   "cell_type": "markdown",
   "id": "46f09ef5-01cc-4d70-ac2f-b540ab4f0ce5",
   "metadata": {},
   "source": [
    "## Start training"
   ]
  },
  {
   "cell_type": "code",
   "execution_count": 40,
   "id": "804f9b3a-6e4f-4c95-8c56-945048405733",
   "metadata": {
    "scrolled": true
   },
   "outputs": [
    {
     "name": "stderr",
     "output_type": "stream",
     "text": [
      "2024-07-23 23:03:30.488956: W external/local_tsl/tsl/framework/cpu_allocator_impl.cc:83] Allocation of 1332117504 exceeds 10% of free system memory.\n",
      "2024-07-23 23:03:32.113703: W external/local_tsl/tsl/framework/cpu_allocator_impl.cc:83] Allocation of 1332117504 exceeds 10% of free system memory.\n"
     ]
    },
    {
     "name": "stdout",
     "output_type": "stream",
     "text": [
      "Epoch 1/200\n"
     ]
    },
    {
     "name": "stderr",
     "output_type": "stream",
     "text": [
      "WARNING: All log messages before absl::InitializeLog() is called are written to STDERR\n",
      "I0000 00:00:1721786613.907427   32699 service.cc:145] XLA service 0x7a2cd40082e0 initialized for platform CUDA (this does not guarantee that XLA will be used). Devices:\n",
      "I0000 00:00:1721786613.907460   32699 service.cc:153]   StreamExecutor device (0): NVIDIA GeForce 940MX, Compute Capability 5.0\n",
      "2024-07-23 23:03:33.931224: I tensorflow/compiler/mlir/tensorflow/utils/dump_mlir_util.cc:268] disabling MLIR crash reproducer, set env var `MLIR_CRASH_REPRODUCER_DIRECTORY` to enable.\n",
      "2024-07-23 23:03:34.027972: I external/local_xla/xla/stream_executor/cuda/cuda_dnn.cc:465] Loaded cuDNN version 8907\n"
     ]
    },
    {
     "name": "stdout",
     "output_type": "stream",
     "text": [
      "\u001b[1m 36/636\u001b[0m \u001b[32m━\u001b[0m\u001b[37m━━━━━━━━━━━━━━━━━━━\u001b[0m \u001b[1m2s\u001b[0m 4ms/step - loss: 0.5277 - mean_absolute_error: 0.5104"
     ]
    },
    {
     "name": "stderr",
     "output_type": "stream",
     "text": [
      "I0000 00:00:1721786615.394999   32699 device_compiler.h:188] Compiled cluster using XLA!  This line is logged at most once for the lifetime of the process.\n"
     ]
    },
    {
     "name": "stdout",
     "output_type": "stream",
     "text": [
      "\u001b[1m636/636\u001b[0m \u001b[32m━━━━━━━━━━━━━━━━━━━━\u001b[0m\u001b[37m\u001b[0m \u001b[1m6s\u001b[0m 6ms/step - loss: 0.1862 - mean_absolute_error: 0.2352\n",
      "Epoch 2/200\n",
      "\u001b[1m636/636\u001b[0m \u001b[32m━━━━━━━━━━━━━━━━━━━━\u001b[0m\u001b[37m\u001b[0m \u001b[1m3s\u001b[0m 4ms/step - loss: 0.0168 - mean_absolute_error: 0.0647\n",
      "Epoch 3/200\n",
      "\u001b[1m636/636\u001b[0m \u001b[32m━━━━━━━━━━━━━━━━━━━━\u001b[0m\u001b[37m\u001b[0m \u001b[1m3s\u001b[0m 4ms/step - loss: 0.0094 - mean_absolute_error: 0.0450\n",
      "Epoch 4/200\n",
      "\u001b[1m636/636\u001b[0m \u001b[32m━━━━━━━━━━━━━━━━━━━━\u001b[0m\u001b[37m\u001b[0m \u001b[1m3s\u001b[0m 4ms/step - loss: 0.0065 - mean_absolute_error: 0.0356\n",
      "Epoch 5/200\n",
      "\u001b[1m636/636\u001b[0m \u001b[32m━━━━━━━━━━━━━━━━━━━━\u001b[0m\u001b[37m\u001b[0m \u001b[1m3s\u001b[0m 4ms/step - loss: 0.0049 - mean_absolute_error: 0.0298\n",
      "Epoch 6/200\n",
      "\u001b[1m636/636\u001b[0m \u001b[32m━━━━━━━━━━━━━━━━━━━━\u001b[0m\u001b[37m\u001b[0m \u001b[1m3s\u001b[0m 4ms/step - loss: 0.0038 - mean_absolute_error: 0.0258\n",
      "Epoch 7/200\n",
      "\u001b[1m636/636\u001b[0m \u001b[32m━━━━━━━━━━━━━━━━━━━━\u001b[0m\u001b[37m\u001b[0m \u001b[1m5s\u001b[0m 4ms/step - loss: 0.0032 - mean_absolute_error: 0.0231\n",
      "Epoch 8/200\n",
      "\u001b[1m636/636\u001b[0m \u001b[32m━━━━━━━━━━━━━━━━━━━━\u001b[0m\u001b[37m\u001b[0m \u001b[1m3s\u001b[0m 4ms/step - loss: 0.0028 - mean_absolute_error: 0.0212\n",
      "Epoch 9/200\n",
      "\u001b[1m636/636\u001b[0m \u001b[32m━━━━━━━━━━━━━━━━━━━━\u001b[0m\u001b[37m\u001b[0m \u001b[1m3s\u001b[0m 4ms/step - loss: 0.0024 - mean_absolute_error: 0.0197\n",
      "Epoch 10/200\n",
      "\u001b[1m636/636\u001b[0m \u001b[32m━━━━━━━━━━━━━━━━━━━━\u001b[0m\u001b[37m\u001b[0m \u001b[1m3s\u001b[0m 4ms/step - loss: 0.0022 - mean_absolute_error: 0.0186\n",
      "Epoch 11/200\n",
      "\u001b[1m636/636\u001b[0m \u001b[32m━━━━━━━━━━━━━━━━━━━━\u001b[0m\u001b[37m\u001b[0m \u001b[1m3s\u001b[0m 4ms/step - loss: 0.0019 - mean_absolute_error: 0.0176\n",
      "Epoch 12/200\n",
      "\u001b[1m636/636\u001b[0m \u001b[32m━━━━━━━━━━━━━━━━━━━━\u001b[0m\u001b[37m\u001b[0m \u001b[1m3s\u001b[0m 4ms/step - loss: 0.0018 - mean_absolute_error: 0.0169\n",
      "Epoch 13/200\n",
      "\u001b[1m636/636\u001b[0m \u001b[32m━━━━━━━━━━━━━━━━━━━━\u001b[0m\u001b[37m\u001b[0m \u001b[1m3s\u001b[0m 4ms/step - loss: 0.0016 - mean_absolute_error: 0.0164\n",
      "Epoch 14/200\n",
      "\u001b[1m636/636\u001b[0m \u001b[32m━━━━━━━━━━━━━━━━━━━━\u001b[0m\u001b[37m\u001b[0m \u001b[1m3s\u001b[0m 5ms/step - loss: 0.0015 - mean_absolute_error: 0.0159\n",
      "Epoch 15/200\n",
      "\u001b[1m636/636\u001b[0m \u001b[32m━━━━━━━━━━━━━━━━━━━━\u001b[0m\u001b[37m\u001b[0m \u001b[1m3s\u001b[0m 5ms/step - loss: 0.0014 - mean_absolute_error: 0.0154\n",
      "Epoch 16/200\n",
      "\u001b[1m636/636\u001b[0m \u001b[32m━━━━━━━━━━━━━━━━━━━━\u001b[0m\u001b[37m\u001b[0m \u001b[1m3s\u001b[0m 5ms/step - loss: 0.0013 - mean_absolute_error: 0.0150\n",
      "Epoch 17/200\n",
      "\u001b[1m636/636\u001b[0m \u001b[32m━━━━━━━━━━━━━━━━━━━━\u001b[0m\u001b[37m\u001b[0m \u001b[1m3s\u001b[0m 5ms/step - loss: 0.0013 - mean_absolute_error: 0.0148\n",
      "Epoch 18/200\n",
      "\u001b[1m636/636\u001b[0m \u001b[32m━━━━━━━━━━━━━━━━━━━━\u001b[0m\u001b[37m\u001b[0m \u001b[1m3s\u001b[0m 4ms/step - loss: 0.0012 - mean_absolute_error: 0.0144\n",
      "Epoch 19/200\n",
      "\u001b[1m636/636\u001b[0m \u001b[32m━━━━━━━━━━━━━━━━━━━━\u001b[0m\u001b[37m\u001b[0m \u001b[1m3s\u001b[0m 4ms/step - loss: 0.0011 - mean_absolute_error: 0.0141\n",
      "Epoch 20/200\n",
      "\u001b[1m636/636\u001b[0m \u001b[32m━━━━━━━━━━━━━━━━━━━━\u001b[0m\u001b[37m\u001b[0m \u001b[1m3s\u001b[0m 4ms/step - loss: 0.0011 - mean_absolute_error: 0.0139\n",
      "Epoch 21/200\n",
      "\u001b[1m636/636\u001b[0m \u001b[32m━━━━━━━━━━━━━━━━━━━━\u001b[0m\u001b[37m\u001b[0m \u001b[1m3s\u001b[0m 4ms/step - loss: 0.0010 - mean_absolute_error: 0.0136\n",
      "Epoch 22/200\n",
      "\u001b[1m636/636\u001b[0m \u001b[32m━━━━━━━━━━━━━━━━━━━━\u001b[0m\u001b[37m\u001b[0m \u001b[1m3s\u001b[0m 4ms/step - loss: 9.8416e-04 - mean_absolute_error: 0.0133\n",
      "Epoch 23/200\n",
      "\u001b[1m636/636\u001b[0m \u001b[32m━━━━━━━━━━━━━━━━━━━━\u001b[0m\u001b[37m\u001b[0m \u001b[1m3s\u001b[0m 4ms/step - loss: 9.4353e-04 - mean_absolute_error: 0.0131\n",
      "Epoch 24/200\n",
      "\u001b[1m636/636\u001b[0m \u001b[32m━━━━━━━━━━━━━━━━━━━━\u001b[0m\u001b[37m\u001b[0m \u001b[1m3s\u001b[0m 4ms/step - loss: 9.0824e-04 - mean_absolute_error: 0.0129\n",
      "Epoch 25/200\n",
      "\u001b[1m636/636\u001b[0m \u001b[32m━━━━━━━━━━━━━━━━━━━━\u001b[0m\u001b[37m\u001b[0m \u001b[1m3s\u001b[0m 4ms/step - loss: 8.7352e-04 - mean_absolute_error: 0.0127\n",
      "Epoch 26/200\n",
      "\u001b[1m636/636\u001b[0m \u001b[32m━━━━━━━━━━━━━━━━━━━━\u001b[0m\u001b[37m\u001b[0m \u001b[1m3s\u001b[0m 4ms/step - loss: 8.3945e-04 - mean_absolute_error: 0.0125\n",
      "Epoch 27/200\n",
      "\u001b[1m636/636\u001b[0m \u001b[32m━━━━━━━━━━━━━━━━━━━━\u001b[0m\u001b[37m\u001b[0m \u001b[1m3s\u001b[0m 4ms/step - loss: 8.1299e-04 - mean_absolute_error: 0.0123\n",
      "Epoch 28/200\n",
      "\u001b[1m636/636\u001b[0m \u001b[32m━━━━━━━━━━━━━━━━━━━━\u001b[0m\u001b[37m\u001b[0m \u001b[1m3s\u001b[0m 4ms/step - loss: 7.8160e-04 - mean_absolute_error: 0.0121\n",
      "Epoch 29/200\n",
      "\u001b[1m636/636\u001b[0m \u001b[32m━━━━━━━━━━━━━━━━━━━━\u001b[0m\u001b[37m\u001b[0m \u001b[1m3s\u001b[0m 4ms/step - loss: 7.6198e-04 - mean_absolute_error: 0.0120\n",
      "Epoch 30/200\n",
      "\u001b[1m636/636\u001b[0m \u001b[32m━━━━━━━━━━━━━━━━━━━━\u001b[0m\u001b[37m\u001b[0m \u001b[1m5s\u001b[0m 4ms/step - loss: 7.3665e-04 - mean_absolute_error: 0.0119\n",
      "Epoch 31/200\n",
      "\u001b[1m636/636\u001b[0m \u001b[32m━━━━━━━━━━━━━━━━━━━━\u001b[0m\u001b[37m\u001b[0m \u001b[1m3s\u001b[0m 4ms/step - loss: 7.1432e-04 - mean_absolute_error: 0.0117\n",
      "Epoch 32/200\n",
      "\u001b[1m636/636\u001b[0m \u001b[32m━━━━━━━━━━━━━━━━━━━━\u001b[0m\u001b[37m\u001b[0m \u001b[1m3s\u001b[0m 4ms/step - loss: 6.9749e-04 - mean_absolute_error: 0.0116\n",
      "Epoch 33/200\n",
      "\u001b[1m636/636\u001b[0m \u001b[32m━━━━━━━━━━━━━━━━━━━━\u001b[0m\u001b[37m\u001b[0m \u001b[1m3s\u001b[0m 4ms/step - loss: 6.7816e-04 - mean_absolute_error: 0.0115\n",
      "Epoch 34/200\n",
      "\u001b[1m636/636\u001b[0m \u001b[32m━━━━━━━━━━━━━━━━━━━━\u001b[0m\u001b[37m\u001b[0m \u001b[1m3s\u001b[0m 4ms/step - loss: 6.6174e-04 - mean_absolute_error: 0.0114\n",
      "Epoch 35/200\n",
      "\u001b[1m636/636\u001b[0m \u001b[32m━━━━━━━━━━━━━━━━━━━━\u001b[0m\u001b[37m\u001b[0m \u001b[1m3s\u001b[0m 4ms/step - loss: 6.4871e-04 - mean_absolute_error: 0.0113\n",
      "Epoch 36/200\n",
      "\u001b[1m636/636\u001b[0m \u001b[32m━━━━━━━━━━━━━━━━━━━━\u001b[0m\u001b[37m\u001b[0m \u001b[1m3s\u001b[0m 4ms/step - loss: 6.3186e-04 - mean_absolute_error: 0.0112\n",
      "Epoch 37/200\n",
      "\u001b[1m636/636\u001b[0m \u001b[32m━━━━━━━━━━━━━━━━━━━━\u001b[0m\u001b[37m\u001b[0m \u001b[1m3s\u001b[0m 4ms/step - loss: 6.1995e-04 - mean_absolute_error: 0.0111\n",
      "Epoch 38/200\n",
      "\u001b[1m636/636\u001b[0m \u001b[32m━━━━━━━━━━━━━━━━━━━━\u001b[0m\u001b[37m\u001b[0m \u001b[1m3s\u001b[0m 4ms/step - loss: 6.0469e-04 - mean_absolute_error: 0.0110\n",
      "Epoch 39/200\n",
      "\u001b[1m636/636\u001b[0m \u001b[32m━━━━━━━━━━━━━━━━━━━━\u001b[0m\u001b[37m\u001b[0m \u001b[1m3s\u001b[0m 5ms/step - loss: 5.9266e-04 - mean_absolute_error: 0.0109\n",
      "Epoch 40/200\n",
      "\u001b[1m636/636\u001b[0m \u001b[32m━━━━━━━━━━━━━━━━━━━━\u001b[0m\u001b[37m\u001b[0m \u001b[1m3s\u001b[0m 5ms/step - loss: 5.7937e-04 - mean_absolute_error: 0.0108\n",
      "Epoch 41/200\n",
      "\u001b[1m636/636\u001b[0m \u001b[32m━━━━━━━━━━━━━━━━━━━━\u001b[0m\u001b[37m\u001b[0m \u001b[1m3s\u001b[0m 5ms/step - loss: 5.7161e-04 - mean_absolute_error: 0.0108\n",
      "Epoch 42/200\n",
      "\u001b[1m636/636\u001b[0m \u001b[32m━━━━━━━━━━━━━━━━━━━━\u001b[0m\u001b[37m\u001b[0m \u001b[1m3s\u001b[0m 4ms/step - loss: 5.6051e-04 - mean_absolute_error: 0.0107\n",
      "Epoch 43/200\n",
      "\u001b[1m636/636\u001b[0m \u001b[32m━━━━━━━━━━━━━━━━━━━━\u001b[0m\u001b[37m\u001b[0m \u001b[1m3s\u001b[0m 4ms/step - loss: 5.5022e-04 - mean_absolute_error: 0.0106\n",
      "Epoch 44/200\n",
      "\u001b[1m636/636\u001b[0m \u001b[32m━━━━━━━━━━━━━━━━━━━━\u001b[0m\u001b[37m\u001b[0m \u001b[1m3s\u001b[0m 4ms/step - loss: 5.3793e-04 - mean_absolute_error: 0.0105\n",
      "Epoch 45/200\n",
      "\u001b[1m636/636\u001b[0m \u001b[32m━━━━━━━━━━━━━━━━━━━━\u001b[0m\u001b[37m\u001b[0m \u001b[1m3s\u001b[0m 4ms/step - loss: 5.3164e-04 - mean_absolute_error: 0.0105\n",
      "Epoch 46/200\n",
      "\u001b[1m636/636\u001b[0m \u001b[32m━━━━━━━━━━━━━━━━━━━━\u001b[0m\u001b[37m\u001b[0m \u001b[1m3s\u001b[0m 4ms/step - loss: 5.2238e-04 - mean_absolute_error: 0.0104\n",
      "Epoch 47/200\n",
      "\u001b[1m636/636\u001b[0m \u001b[32m━━━━━━━━━━━━━━━━━━━━\u001b[0m\u001b[37m\u001b[0m \u001b[1m3s\u001b[0m 4ms/step - loss: 5.1489e-04 - mean_absolute_error: 0.0103\n",
      "Epoch 48/200\n",
      "\u001b[1m636/636\u001b[0m \u001b[32m━━━━━━━━━━━━━━━━━━━━\u001b[0m\u001b[37m\u001b[0m \u001b[1m3s\u001b[0m 4ms/step - loss: 5.0459e-04 - mean_absolute_error: 0.0102\n",
      "Epoch 49/200\n",
      "\u001b[1m636/636\u001b[0m \u001b[32m━━━━━━━━━━━━━━━━━━━━\u001b[0m\u001b[37m\u001b[0m \u001b[1m3s\u001b[0m 5ms/step - loss: 4.9988e-04 - mean_absolute_error: 0.0102\n",
      "Epoch 50/200\n",
      "\u001b[1m636/636\u001b[0m \u001b[32m━━━━━━━━━━━━━━━━━━━━\u001b[0m\u001b[37m\u001b[0m \u001b[1m3s\u001b[0m 4ms/step - loss: 4.9281e-04 - mean_absolute_error: 0.0102\n",
      "Epoch 51/200\n",
      "\u001b[1m636/636\u001b[0m \u001b[32m━━━━━━━━━━━━━━━━━━━━\u001b[0m\u001b[37m\u001b[0m \u001b[1m3s\u001b[0m 4ms/step - loss: 4.8560e-04 - mean_absolute_error: 0.0101\n",
      "Epoch 52/200\n",
      "\u001b[1m636/636\u001b[0m \u001b[32m━━━━━━━━━━━━━━━━━━━━\u001b[0m\u001b[37m\u001b[0m \u001b[1m3s\u001b[0m 4ms/step - loss: 4.7981e-04 - mean_absolute_error: 0.0101\n",
      "Epoch 53/200\n",
      "\u001b[1m636/636\u001b[0m \u001b[32m━━━━━━━━━━━━━━━━━━━━\u001b[0m\u001b[37m\u001b[0m \u001b[1m3s\u001b[0m 4ms/step - loss: 4.7299e-04 - mean_absolute_error: 0.0100\n",
      "Epoch 54/200\n",
      "\u001b[1m636/636\u001b[0m \u001b[32m━━━━━━━━━━━━━━━━━━━━\u001b[0m\u001b[37m\u001b[0m \u001b[1m3s\u001b[0m 4ms/step - loss: 4.6485e-04 - mean_absolute_error: 0.0099\n",
      "Epoch 55/200\n",
      "\u001b[1m636/636\u001b[0m \u001b[32m━━━━━━━━━━━━━━━━━━━━\u001b[0m\u001b[37m\u001b[0m \u001b[1m3s\u001b[0m 4ms/step - loss: 4.5938e-04 - mean_absolute_error: 0.0099\n",
      "Epoch 56/200\n",
      "\u001b[1m636/636\u001b[0m \u001b[32m━━━━━━━━━━━━━━━━━━━━\u001b[0m\u001b[37m\u001b[0m \u001b[1m3s\u001b[0m 4ms/step - loss: 4.5345e-04 - mean_absolute_error: 0.0098\n",
      "Epoch 57/200\n",
      "\u001b[1m636/636\u001b[0m \u001b[32m━━━━━━━━━━━━━━━━━━━━\u001b[0m\u001b[37m\u001b[0m \u001b[1m3s\u001b[0m 4ms/step - loss: 4.4864e-04 - mean_absolute_error: 0.0098\n",
      "Epoch 58/200\n",
      "\u001b[1m636/636\u001b[0m \u001b[32m━━━━━━━━━━━━━━━━━━━━\u001b[0m\u001b[37m\u001b[0m \u001b[1m3s\u001b[0m 4ms/step - loss: 4.4437e-04 - mean_absolute_error: 0.0098\n",
      "Epoch 59/200\n",
      "\u001b[1m636/636\u001b[0m \u001b[32m━━━━━━━━━━━━━━━━━━━━\u001b[0m\u001b[37m\u001b[0m \u001b[1m3s\u001b[0m 5ms/step - loss: 4.3810e-04 - mean_absolute_error: 0.0097\n",
      "Epoch 60/200\n",
      "\u001b[1m636/636\u001b[0m \u001b[32m━━━━━━━━━━━━━━━━━━━━\u001b[0m\u001b[37m\u001b[0m \u001b[1m3s\u001b[0m 5ms/step - loss: 4.3293e-04 - mean_absolute_error: 0.0097\n",
      "Epoch 61/200\n",
      "\u001b[1m636/636\u001b[0m \u001b[32m━━━━━━━━━━━━━━━━━━━━\u001b[0m\u001b[37m\u001b[0m \u001b[1m5s\u001b[0m 4ms/step - loss: 4.2774e-04 - mean_absolute_error: 0.0096\n",
      "Epoch 62/200\n",
      "\u001b[1m636/636\u001b[0m \u001b[32m━━━━━━━━━━━━━━━━━━━━\u001b[0m\u001b[37m\u001b[0m \u001b[1m5s\u001b[0m 4ms/step - loss: 4.2287e-04 - mean_absolute_error: 0.0096\n",
      "Epoch 63/200\n",
      "\u001b[1m636/636\u001b[0m \u001b[32m━━━━━━━━━━━━━━━━━━━━\u001b[0m\u001b[37m\u001b[0m \u001b[1m5s\u001b[0m 4ms/step - loss: 4.1917e-04 - mean_absolute_error: 0.0096\n",
      "Epoch 64/200\n",
      "\u001b[1m636/636\u001b[0m \u001b[32m━━━━━━━━━━━━━━━━━━━━\u001b[0m\u001b[37m\u001b[0m \u001b[1m3s\u001b[0m 4ms/step - loss: 4.1349e-04 - mean_absolute_error: 0.0095\n",
      "Epoch 65/200\n",
      "\u001b[1m636/636\u001b[0m \u001b[32m━━━━━━━━━━━━━━━━━━━━\u001b[0m\u001b[37m\u001b[0m \u001b[1m3s\u001b[0m 5ms/step - loss: 4.1135e-04 - mean_absolute_error: 0.0095\n",
      "Epoch 66/200\n",
      "\u001b[1m636/636\u001b[0m \u001b[32m━━━━━━━━━━━━━━━━━━━━\u001b[0m\u001b[37m\u001b[0m \u001b[1m3s\u001b[0m 5ms/step - loss: 4.0543e-04 - mean_absolute_error: 0.0094\n",
      "Epoch 67/200\n",
      "\u001b[1m636/636\u001b[0m \u001b[32m━━━━━━━━━━━━━━━━━━━━\u001b[0m\u001b[37m\u001b[0m \u001b[1m3s\u001b[0m 4ms/step - loss: 4.0088e-04 - mean_absolute_error: 0.0094\n",
      "Epoch 68/200\n",
      "\u001b[1m636/636\u001b[0m \u001b[32m━━━━━━━━━━━━━━━━━━━━\u001b[0m\u001b[37m\u001b[0m \u001b[1m3s\u001b[0m 4ms/step - loss: 3.9645e-04 - mean_absolute_error: 0.0093\n",
      "Epoch 69/200\n",
      "\u001b[1m636/636\u001b[0m \u001b[32m━━━━━━━━━━━━━━━━━━━━\u001b[0m\u001b[37m\u001b[0m \u001b[1m3s\u001b[0m 4ms/step - loss: 3.9271e-04 - mean_absolute_error: 0.0093\n",
      "Epoch 70/200\n",
      "\u001b[1m636/636\u001b[0m \u001b[32m━━━━━━━━━━━━━━━━━━━━\u001b[0m\u001b[37m\u001b[0m \u001b[1m3s\u001b[0m 4ms/step - loss: 3.9134e-04 - mean_absolute_error: 0.0093\n",
      "Epoch 71/200\n",
      "\u001b[1m636/636\u001b[0m \u001b[32m━━━━━━━━━━━━━━━━━━━━\u001b[0m\u001b[37m\u001b[0m \u001b[1m3s\u001b[0m 4ms/step - loss: 3.8741e-04 - mean_absolute_error: 0.0093\n",
      "Epoch 72/200\n",
      "\u001b[1m636/636\u001b[0m \u001b[32m━━━━━━━━━━━━━━━━━━━━\u001b[0m\u001b[37m\u001b[0m \u001b[1m3s\u001b[0m 4ms/step - loss: 3.8497e-04 - mean_absolute_error: 0.0092\n",
      "Epoch 73/200\n",
      "\u001b[1m636/636\u001b[0m \u001b[32m━━━━━━━━━━━━━━━━━━━━\u001b[0m\u001b[37m\u001b[0m \u001b[1m3s\u001b[0m 4ms/step - loss: 3.8007e-04 - mean_absolute_error: 0.0092\n",
      "Epoch 74/200\n",
      "\u001b[1m636/636\u001b[0m \u001b[32m━━━━━━━━━━━━━━━━━━━━\u001b[0m\u001b[37m\u001b[0m \u001b[1m3s\u001b[0m 4ms/step - loss: 3.7834e-04 - mean_absolute_error: 0.0092\n",
      "Epoch 75/200\n",
      "\u001b[1m636/636\u001b[0m \u001b[32m━━━━━━━━━━━━━━━━━━━━\u001b[0m\u001b[37m\u001b[0m \u001b[1m3s\u001b[0m 4ms/step - loss: 3.7749e-04 - mean_absolute_error: 0.0092\n",
      "Epoch 76/200\n",
      "\u001b[1m636/636\u001b[0m \u001b[32m━━━━━━━━━━━━━━━━━━━━\u001b[0m\u001b[37m\u001b[0m \u001b[1m3s\u001b[0m 4ms/step - loss: 3.7121e-04 - mean_absolute_error: 0.0091\n",
      "Epoch 77/200\n",
      "\u001b[1m636/636\u001b[0m \u001b[32m━━━━━━━━━━━━━━━━━━━━\u001b[0m\u001b[37m\u001b[0m \u001b[1m3s\u001b[0m 4ms/step - loss: 3.6895e-04 - mean_absolute_error: 0.0091\n",
      "Epoch 78/200\n",
      "\u001b[1m636/636\u001b[0m \u001b[32m━━━━━━━━━━━━━━━━━━━━\u001b[0m\u001b[37m\u001b[0m \u001b[1m3s\u001b[0m 4ms/step - loss: 3.6657e-04 - mean_absolute_error: 0.0090\n",
      "Epoch 79/200\n",
      "\u001b[1m636/636\u001b[0m \u001b[32m━━━━━━━━━━━━━━━━━━━━\u001b[0m\u001b[37m\u001b[0m \u001b[1m3s\u001b[0m 5ms/step - loss: 3.6446e-04 - mean_absolute_error: 0.0090\n",
      "Epoch 80/200\n",
      "\u001b[1m636/636\u001b[0m \u001b[32m━━━━━━━━━━━━━━━━━━━━\u001b[0m\u001b[37m\u001b[0m \u001b[1m3s\u001b[0m 5ms/step - loss: 3.6121e-04 - mean_absolute_error: 0.0090\n",
      "Epoch 81/200\n",
      "\u001b[1m636/636\u001b[0m \u001b[32m━━━━━━━━━━━━━━━━━━━━\u001b[0m\u001b[37m\u001b[0m \u001b[1m3s\u001b[0m 5ms/step - loss: 3.5752e-04 - mean_absolute_error: 0.0089\n",
      "Epoch 82/200\n",
      "\u001b[1m636/636\u001b[0m \u001b[32m━━━━━━━━━━━━━━━━━━━━\u001b[0m\u001b[37m\u001b[0m \u001b[1m3s\u001b[0m 5ms/step - loss: 3.5636e-04 - mean_absolute_error: 0.0089\n",
      "Epoch 83/200\n",
      "\u001b[1m636/636\u001b[0m \u001b[32m━━━━━━━━━━━━━━━━━━━━\u001b[0m\u001b[37m\u001b[0m \u001b[1m3s\u001b[0m 5ms/step - loss: 3.5355e-04 - mean_absolute_error: 0.0089\n",
      "Epoch 84/200\n",
      "\u001b[1m636/636\u001b[0m \u001b[32m━━━━━━━━━━━━━━━━━━━━\u001b[0m\u001b[37m\u001b[0m \u001b[1m3s\u001b[0m 5ms/step - loss: 3.4985e-04 - mean_absolute_error: 0.0089\n",
      "Epoch 85/200\n",
      "\u001b[1m636/636\u001b[0m \u001b[32m━━━━━━━━━━━━━━━━━━━━\u001b[0m\u001b[37m\u001b[0m \u001b[1m3s\u001b[0m 5ms/step - loss: 3.4862e-04 - mean_absolute_error: 0.0089\n",
      "Epoch 86/200\n",
      "\u001b[1m636/636\u001b[0m \u001b[32m━━━━━━━━━━━━━━━━━━━━\u001b[0m\u001b[37m\u001b[0m \u001b[1m3s\u001b[0m 5ms/step - loss: 3.4614e-04 - mean_absolute_error: 0.0088\n",
      "Epoch 87/200\n",
      "\u001b[1m636/636\u001b[0m \u001b[32m━━━━━━━━━━━━━━━━━━━━\u001b[0m\u001b[37m\u001b[0m \u001b[1m3s\u001b[0m 4ms/step - loss: 3.4496e-04 - mean_absolute_error: 0.0088\n",
      "Epoch 88/200\n",
      "\u001b[1m636/636\u001b[0m \u001b[32m━━━━━━━━━━━━━━━━━━━━\u001b[0m\u001b[37m\u001b[0m \u001b[1m3s\u001b[0m 5ms/step - loss: 3.4312e-04 - mean_absolute_error: 0.0088\n",
      "Epoch 89/200\n",
      "\u001b[1m636/636\u001b[0m \u001b[32m━━━━━━━━━━━━━━━━━━━━\u001b[0m\u001b[37m\u001b[0m \u001b[1m3s\u001b[0m 4ms/step - loss: 3.3964e-04 - mean_absolute_error: 0.0087\n",
      "Epoch 90/200\n",
      "\u001b[1m636/636\u001b[0m \u001b[32m━━━━━━━━━━━━━━━━━━━━\u001b[0m\u001b[37m\u001b[0m \u001b[1m3s\u001b[0m 4ms/step - loss: 3.3782e-04 - mean_absolute_error: 0.0087\n",
      "Epoch 91/200\n",
      "\u001b[1m636/636\u001b[0m \u001b[32m━━━━━━━━━━━━━━━━━━━━\u001b[0m\u001b[37m\u001b[0m \u001b[1m3s\u001b[0m 4ms/step - loss: 3.3487e-04 - mean_absolute_error: 0.0087\n",
      "Epoch 92/200\n",
      "\u001b[1m636/636\u001b[0m \u001b[32m━━━━━━━━━━━━━━━━━━━━\u001b[0m\u001b[37m\u001b[0m \u001b[1m3s\u001b[0m 4ms/step - loss: 3.3567e-04 - mean_absolute_error: 0.0087\n",
      "Epoch 93/200\n",
      "\u001b[1m636/636\u001b[0m \u001b[32m━━━━━━━━━━━━━━━━━━━━\u001b[0m\u001b[37m\u001b[0m \u001b[1m3s\u001b[0m 4ms/step - loss: 3.3304e-04 - mean_absolute_error: 0.0087\n",
      "Epoch 94/200\n",
      "\u001b[1m636/636\u001b[0m \u001b[32m━━━━━━━━━━━━━━━━━━━━\u001b[0m\u001b[37m\u001b[0m \u001b[1m3s\u001b[0m 4ms/step - loss: 3.3212e-04 - mean_absolute_error: 0.0087\n",
      "Epoch 95/200\n",
      "\u001b[1m636/636\u001b[0m \u001b[32m━━━━━━━━━━━━━━━━━━━━\u001b[0m\u001b[37m\u001b[0m \u001b[1m3s\u001b[0m 4ms/step - loss: 3.3036e-04 - mean_absolute_error: 0.0087\n",
      "Epoch 96/200\n",
      "\u001b[1m636/636\u001b[0m \u001b[32m━━━━━━━━━━━━━━━━━━━━\u001b[0m\u001b[37m\u001b[0m \u001b[1m3s\u001b[0m 5ms/step - loss: 3.2857e-04 - mean_absolute_error: 0.0086\n",
      "Epoch 97/200\n",
      "\u001b[1m636/636\u001b[0m \u001b[32m━━━━━━━━━━━━━━━━━━━━\u001b[0m\u001b[37m\u001b[0m \u001b[1m3s\u001b[0m 5ms/step - loss: 3.2552e-04 - mean_absolute_error: 0.0086\n",
      "Epoch 98/200\n",
      "\u001b[1m636/636\u001b[0m \u001b[32m━━━━━━━━━━━━━━━━━━━━\u001b[0m\u001b[37m\u001b[0m \u001b[1m3s\u001b[0m 4ms/step - loss: 3.2383e-04 - mean_absolute_error: 0.0086\n",
      "Epoch 99/200\n",
      "\u001b[1m636/636\u001b[0m \u001b[32m━━━━━━━━━━━━━━━━━━━━\u001b[0m\u001b[37m\u001b[0m \u001b[1m3s\u001b[0m 4ms/step - loss: 3.2400e-04 - mean_absolute_error: 0.0086\n",
      "Epoch 100/200\n",
      "\u001b[1m636/636\u001b[0m \u001b[32m━━━━━━━━━━━━━━━━━━━━\u001b[0m\u001b[37m\u001b[0m \u001b[1m3s\u001b[0m 4ms/step - loss: 3.2081e-04 - mean_absolute_error: 0.0085\n",
      "Epoch 101/200\n",
      "\u001b[1m636/636\u001b[0m \u001b[32m━━━━━━━━━━━━━━━━━━━━\u001b[0m\u001b[37m\u001b[0m \u001b[1m3s\u001b[0m 4ms/step - loss: 3.1874e-04 - mean_absolute_error: 0.0085\n",
      "Epoch 102/200\n",
      "\u001b[1m636/636\u001b[0m \u001b[32m━━━━━━━━━━━━━━━━━━━━\u001b[0m\u001b[37m\u001b[0m \u001b[1m3s\u001b[0m 4ms/step - loss: 3.1962e-04 - mean_absolute_error: 0.0086\n",
      "Epoch 103/200\n",
      "\u001b[1m636/636\u001b[0m \u001b[32m━━━━━━━━━━━━━━━━━━━━\u001b[0m\u001b[37m\u001b[0m \u001b[1m3s\u001b[0m 4ms/step - loss: 3.1600e-04 - mean_absolute_error: 0.0085\n",
      "Epoch 104/200\n",
      "\u001b[1m636/636\u001b[0m \u001b[32m━━━━━━━━━━━━━━━━━━━━\u001b[0m\u001b[37m\u001b[0m \u001b[1m3s\u001b[0m 5ms/step - loss: 3.1612e-04 - mean_absolute_error: 0.0085\n",
      "Epoch 105/200\n",
      "\u001b[1m636/636\u001b[0m \u001b[32m━━━━━━━━━━━━━━━━━━━━\u001b[0m\u001b[37m\u001b[0m \u001b[1m3s\u001b[0m 5ms/step - loss: 3.1370e-04 - mean_absolute_error: 0.0085\n",
      "Epoch 106/200\n",
      "\u001b[1m636/636\u001b[0m \u001b[32m━━━━━━━━━━━━━━━━━━━━\u001b[0m\u001b[37m\u001b[0m \u001b[1m3s\u001b[0m 4ms/step - loss: 3.1174e-04 - mean_absolute_error: 0.0084\n",
      "Epoch 107/200\n",
      "\u001b[1m636/636\u001b[0m \u001b[32m━━━━━━━━━━━━━━━━━━━━\u001b[0m\u001b[37m\u001b[0m \u001b[1m3s\u001b[0m 4ms/step - loss: 3.1053e-04 - mean_absolute_error: 0.0084\n",
      "Epoch 108/200\n",
      "\u001b[1m636/636\u001b[0m \u001b[32m━━━━━━━━━━━━━━━━━━━━\u001b[0m\u001b[37m\u001b[0m \u001b[1m3s\u001b[0m 4ms/step - loss: 3.1038e-04 - mean_absolute_error: 0.0084\n",
      "Epoch 109/200\n",
      "\u001b[1m636/636\u001b[0m \u001b[32m━━━━━━━━━━━━━━━━━━━━\u001b[0m\u001b[37m\u001b[0m \u001b[1m3s\u001b[0m 4ms/step - loss: 3.0828e-04 - mean_absolute_error: 0.0084\n",
      "Epoch 110/200\n",
      "\u001b[1m636/636\u001b[0m \u001b[32m━━━━━━━━━━━━━━━━━━━━\u001b[0m\u001b[37m\u001b[0m \u001b[1m3s\u001b[0m 4ms/step - loss: 3.0545e-04 - mean_absolute_error: 0.0083\n",
      "Epoch 111/200\n",
      "\u001b[1m636/636\u001b[0m \u001b[32m━━━━━━━━━━━━━━━━━━━━\u001b[0m\u001b[37m\u001b[0m \u001b[1m3s\u001b[0m 4ms/step - loss: 3.0573e-04 - mean_absolute_error: 0.0084\n",
      "Epoch 112/200\n",
      "\u001b[1m636/636\u001b[0m \u001b[32m━━━━━━━━━━━━━━━━━━━━\u001b[0m\u001b[37m\u001b[0m \u001b[1m3s\u001b[0m 4ms/step - loss: 3.0487e-04 - mean_absolute_error: 0.0084\n",
      "Epoch 113/200\n",
      "\u001b[1m636/636\u001b[0m \u001b[32m━━━━━━━━━━━━━━━━━━━━\u001b[0m\u001b[37m\u001b[0m \u001b[1m3s\u001b[0m 4ms/step - loss: 3.0219e-04 - mean_absolute_error: 0.0083\n",
      "Epoch 114/200\n",
      "\u001b[1m636/636\u001b[0m \u001b[32m━━━━━━━━━━━━━━━━━━━━\u001b[0m\u001b[37m\u001b[0m \u001b[1m3s\u001b[0m 4ms/step - loss: 3.0201e-04 - mean_absolute_error: 0.0083\n",
      "Epoch 115/200\n",
      "\u001b[1m636/636\u001b[0m \u001b[32m━━━━━━━━━━━━━━━━━━━━\u001b[0m\u001b[37m\u001b[0m \u001b[1m3s\u001b[0m 4ms/step - loss: 3.0024e-04 - mean_absolute_error: 0.0083\n",
      "Epoch 116/200\n",
      "\u001b[1m636/636\u001b[0m \u001b[32m━━━━━━━━━━━━━━━━━━━━\u001b[0m\u001b[37m\u001b[0m \u001b[1m3s\u001b[0m 4ms/step - loss: 2.9855e-04 - mean_absolute_error: 0.0083\n",
      "Epoch 117/200\n",
      "\u001b[1m636/636\u001b[0m \u001b[32m━━━━━━━━━━━━━━━━━━━━\u001b[0m\u001b[37m\u001b[0m \u001b[1m3s\u001b[0m 5ms/step - loss: 2.9884e-04 - mean_absolute_error: 0.0083\n",
      "Epoch 118/200\n",
      "\u001b[1m636/636\u001b[0m \u001b[32m━━━━━━━━━━━━━━━━━━━━\u001b[0m\u001b[37m\u001b[0m \u001b[1m3s\u001b[0m 4ms/step - loss: 2.9622e-04 - mean_absolute_error: 0.0082\n",
      "Epoch 119/200\n",
      "\u001b[1m636/636\u001b[0m \u001b[32m━━━━━━━━━━━━━━━━━━━━\u001b[0m\u001b[37m\u001b[0m \u001b[1m3s\u001b[0m 4ms/step - loss: 2.9641e-04 - mean_absolute_error: 0.0083\n",
      "Epoch 120/200\n",
      "\u001b[1m636/636\u001b[0m \u001b[32m━━━━━━━━━━━━━━━━━━━━\u001b[0m\u001b[37m\u001b[0m \u001b[1m5s\u001b[0m 4ms/step - loss: 2.9419e-04 - mean_absolute_error: 0.0082\n",
      "Epoch 121/200\n",
      "\u001b[1m636/636\u001b[0m \u001b[32m━━━━━━━━━━━━━━━━━━━━\u001b[0m\u001b[37m\u001b[0m \u001b[1m3s\u001b[0m 4ms/step - loss: 2.9438e-04 - mean_absolute_error: 0.0082\n",
      "Epoch 122/200\n",
      "\u001b[1m636/636\u001b[0m \u001b[32m━━━━━━━━━━━━━━━━━━━━\u001b[0m\u001b[37m\u001b[0m \u001b[1m3s\u001b[0m 4ms/step - loss: 2.9275e-04 - mean_absolute_error: 0.0082\n",
      "Epoch 123/200\n",
      "\u001b[1m636/636\u001b[0m \u001b[32m━━━━━━━━━━━━━━━━━━━━\u001b[0m\u001b[37m\u001b[0m \u001b[1m3s\u001b[0m 4ms/step - loss: 2.9137e-04 - mean_absolute_error: 0.0082\n",
      "Epoch 124/200\n",
      "\u001b[1m636/636\u001b[0m \u001b[32m━━━━━━━━━━━━━━━━━━━━\u001b[0m\u001b[37m\u001b[0m \u001b[1m3s\u001b[0m 4ms/step - loss: 2.8973e-04 - mean_absolute_error: 0.0082\n",
      "Epoch 125/200\n",
      "\u001b[1m636/636\u001b[0m \u001b[32m━━━━━━━━━━━━━━━━━━━━\u001b[0m\u001b[37m\u001b[0m \u001b[1m3s\u001b[0m 4ms/step - loss: 2.8876e-04 - mean_absolute_error: 0.0082\n",
      "Epoch 126/200\n",
      "\u001b[1m636/636\u001b[0m \u001b[32m━━━━━━━━━━━━━━━━━━━━\u001b[0m\u001b[37m\u001b[0m \u001b[1m3s\u001b[0m 4ms/step - loss: 2.8723e-04 - mean_absolute_error: 0.0081\n",
      "Epoch 127/200\n",
      "\u001b[1m636/636\u001b[0m \u001b[32m━━━━━━━━━━━━━━━━━━━━\u001b[0m\u001b[37m\u001b[0m \u001b[1m3s\u001b[0m 4ms/step - loss: 2.8714e-04 - mean_absolute_error: 0.0081\n",
      "Epoch 128/200\n",
      "\u001b[1m636/636\u001b[0m \u001b[32m━━━━━━━━━━━━━━━━━━━━\u001b[0m\u001b[37m\u001b[0m \u001b[1m5s\u001b[0m 5ms/step - loss: 2.8656e-04 - mean_absolute_error: 0.0081\n",
      "Epoch 129/200\n",
      "\u001b[1m636/636\u001b[0m \u001b[32m━━━━━━━━━━━━━━━━━━━━\u001b[0m\u001b[37m\u001b[0m \u001b[1m5s\u001b[0m 5ms/step - loss: 2.8558e-04 - mean_absolute_error: 0.0081\n",
      "Epoch 130/200\n",
      "\u001b[1m636/636\u001b[0m \u001b[32m━━━━━━━━━━━━━━━━━━━━\u001b[0m\u001b[37m\u001b[0m \u001b[1m3s\u001b[0m 5ms/step - loss: 2.8397e-04 - mean_absolute_error: 0.0081\n",
      "Epoch 131/200\n",
      "\u001b[1m636/636\u001b[0m \u001b[32m━━━━━━━━━━━━━━━━━━━━\u001b[0m\u001b[37m\u001b[0m \u001b[1m3s\u001b[0m 4ms/step - loss: 2.8360e-04 - mean_absolute_error: 0.0081\n",
      "Epoch 132/200\n",
      "\u001b[1m636/636\u001b[0m \u001b[32m━━━━━━━━━━━━━━━━━━━━\u001b[0m\u001b[37m\u001b[0m \u001b[1m3s\u001b[0m 4ms/step - loss: 2.8400e-04 - mean_absolute_error: 0.0081\n",
      "Epoch 133/200\n",
      "\u001b[1m636/636\u001b[0m \u001b[32m━━━━━━━━━━━━━━━━━━━━\u001b[0m\u001b[37m\u001b[0m \u001b[1m3s\u001b[0m 4ms/step - loss: 2.8130e-04 - mean_absolute_error: 0.0081\n",
      "Epoch 134/200\n",
      "\u001b[1m636/636\u001b[0m \u001b[32m━━━━━━━━━━━━━━━━━━━━\u001b[0m\u001b[37m\u001b[0m \u001b[1m3s\u001b[0m 4ms/step - loss: 2.7988e-04 - mean_absolute_error: 0.0080\n",
      "Epoch 135/200\n",
      "\u001b[1m636/636\u001b[0m \u001b[32m━━━━━━━━━━━━━━━━━━━━\u001b[0m\u001b[37m\u001b[0m \u001b[1m3s\u001b[0m 4ms/step - loss: 2.7960e-04 - mean_absolute_error: 0.0080\n",
      "Epoch 136/200\n",
      "\u001b[1m636/636\u001b[0m \u001b[32m━━━━━━━━━━━━━━━━━━━━\u001b[0m\u001b[37m\u001b[0m \u001b[1m3s\u001b[0m 5ms/step - loss: 2.7751e-04 - mean_absolute_error: 0.0080\n",
      "Epoch 137/200\n",
      "\u001b[1m636/636\u001b[0m \u001b[32m━━━━━━━━━━━━━━━━━━━━\u001b[0m\u001b[37m\u001b[0m \u001b[1m3s\u001b[0m 4ms/step - loss: 2.7856e-04 - mean_absolute_error: 0.0080\n",
      "Epoch 138/200\n",
      "\u001b[1m636/636\u001b[0m \u001b[32m━━━━━━━━━━━━━━━━━━━━\u001b[0m\u001b[37m\u001b[0m \u001b[1m3s\u001b[0m 5ms/step - loss: 2.7697e-04 - mean_absolute_error: 0.0080\n",
      "Epoch 139/200\n",
      "\u001b[1m636/636\u001b[0m \u001b[32m━━━━━━━━━━━━━━━━━━━━\u001b[0m\u001b[37m\u001b[0m \u001b[1m3s\u001b[0m 4ms/step - loss: 2.7618e-04 - mean_absolute_error: 0.0080\n",
      "Epoch 140/200\n",
      "\u001b[1m636/636\u001b[0m \u001b[32m━━━━━━━━━━━━━━━━━━━━\u001b[0m\u001b[37m\u001b[0m \u001b[1m3s\u001b[0m 4ms/step - loss: 2.7657e-04 - mean_absolute_error: 0.0080\n",
      "Epoch 141/200\n",
      "\u001b[1m636/636\u001b[0m \u001b[32m━━━━━━━━━━━━━━━━━━━━\u001b[0m\u001b[37m\u001b[0m \u001b[1m3s\u001b[0m 5ms/step - loss: 2.7358e-04 - mean_absolute_error: 0.0079\n",
      "Epoch 142/200\n",
      "\u001b[1m636/636\u001b[0m \u001b[32m━━━━━━━━━━━━━━━━━━━━\u001b[0m\u001b[37m\u001b[0m \u001b[1m3s\u001b[0m 4ms/step - loss: 2.7263e-04 - mean_absolute_error: 0.0079\n",
      "Epoch 143/200\n",
      "\u001b[1m636/636\u001b[0m \u001b[32m━━━━━━━━━━━━━━━━━━━━\u001b[0m\u001b[37m\u001b[0m \u001b[1m3s\u001b[0m 4ms/step - loss: 2.7431e-04 - mean_absolute_error: 0.0080\n",
      "Epoch 144/200\n",
      "\u001b[1m636/636\u001b[0m \u001b[32m━━━━━━━━━━━━━━━━━━━━\u001b[0m\u001b[37m\u001b[0m \u001b[1m3s\u001b[0m 4ms/step - loss: 2.7275e-04 - mean_absolute_error: 0.0079\n",
      "Epoch 145/200\n",
      "\u001b[1m636/636\u001b[0m \u001b[32m━━━━━━━━━━━━━━━━━━━━\u001b[0m\u001b[37m\u001b[0m \u001b[1m3s\u001b[0m 4ms/step - loss: 2.7198e-04 - mean_absolute_error: 0.0079\n",
      "Epoch 146/200\n",
      "\u001b[1m636/636\u001b[0m \u001b[32m━━━━━━━━━━━━━━━━━━━━\u001b[0m\u001b[37m\u001b[0m \u001b[1m3s\u001b[0m 4ms/step - loss: 2.6993e-04 - mean_absolute_error: 0.0079\n",
      "Epoch 147/200\n",
      "\u001b[1m636/636\u001b[0m \u001b[32m━━━━━━━━━━━━━━━━━━━━\u001b[0m\u001b[37m\u001b[0m \u001b[1m3s\u001b[0m 4ms/step - loss: 2.7018e-04 - mean_absolute_error: 0.0079\n",
      "Epoch 148/200\n",
      "\u001b[1m636/636\u001b[0m \u001b[32m━━━━━━━━━━━━━━━━━━━━\u001b[0m\u001b[37m\u001b[0m \u001b[1m3s\u001b[0m 5ms/step - loss: 2.6934e-04 - mean_absolute_error: 0.0079\n",
      "Epoch 149/200\n",
      "\u001b[1m636/636\u001b[0m \u001b[32m━━━━━━━━━━━━━━━━━━━━\u001b[0m\u001b[37m\u001b[0m \u001b[1m3s\u001b[0m 5ms/step - loss: 2.6813e-04 - mean_absolute_error: 0.0079\n",
      "Epoch 150/200\n",
      "\u001b[1m636/636\u001b[0m \u001b[32m━━━━━━━━━━━━━━━━━━━━\u001b[0m\u001b[37m\u001b[0m \u001b[1m3s\u001b[0m 5ms/step - loss: 2.6730e-04 - mean_absolute_error: 0.0079\n",
      "Epoch 151/200\n",
      "\u001b[1m636/636\u001b[0m \u001b[32m━━━━━━━━━━━━━━━━━━━━\u001b[0m\u001b[37m\u001b[0m \u001b[1m3s\u001b[0m 5ms/step - loss: 2.6828e-04 - mean_absolute_error: 0.0079\n",
      "Epoch 152/200\n",
      "\u001b[1m636/636\u001b[0m \u001b[32m━━━━━━━━━━━━━━━━━━━━\u001b[0m\u001b[37m\u001b[0m \u001b[1m3s\u001b[0m 4ms/step - loss: 2.6454e-04 - mean_absolute_error: 0.0078\n",
      "Epoch 153/200\n",
      "\u001b[1m636/636\u001b[0m \u001b[32m━━━━━━━━━━━━━━━━━━━━\u001b[0m\u001b[37m\u001b[0m \u001b[1m3s\u001b[0m 5ms/step - loss: 2.6659e-04 - mean_absolute_error: 0.0079\n",
      "Epoch 154/200\n",
      "\u001b[1m636/636\u001b[0m \u001b[32m━━━━━━━━━━━━━━━━━━━━\u001b[0m\u001b[37m\u001b[0m \u001b[1m3s\u001b[0m 5ms/step - loss: 2.6493e-04 - mean_absolute_error: 0.0078\n",
      "Epoch 155/200\n",
      "\u001b[1m636/636\u001b[0m \u001b[32m━━━━━━━━━━━━━━━━━━━━\u001b[0m\u001b[37m\u001b[0m \u001b[1m4s\u001b[0m 5ms/step - loss: 2.6511e-04 - mean_absolute_error: 0.0078\n",
      "Epoch 156/200\n",
      "\u001b[1m636/636\u001b[0m \u001b[32m━━━━━━━━━━━━━━━━━━━━\u001b[0m\u001b[37m\u001b[0m \u001b[1m4s\u001b[0m 5ms/step - loss: 2.6354e-04 - mean_absolute_error: 0.0078\n",
      "Epoch 157/200\n",
      "\u001b[1m636/636\u001b[0m \u001b[32m━━━━━━━━━━━━━━━━━━━━\u001b[0m\u001b[37m\u001b[0m \u001b[1m5s\u001b[0m 5ms/step - loss: 2.6178e-04 - mean_absolute_error: 0.0078\n",
      "Epoch 158/200\n",
      "\u001b[1m636/636\u001b[0m \u001b[32m━━━━━━━━━━━━━━━━━━━━\u001b[0m\u001b[37m\u001b[0m \u001b[1m3s\u001b[0m 5ms/step - loss: 2.6160e-04 - mean_absolute_error: 0.0078\n",
      "Epoch 159/200\n",
      "\u001b[1m636/636\u001b[0m \u001b[32m━━━━━━━━━━━━━━━━━━━━\u001b[0m\u001b[37m\u001b[0m \u001b[1m3s\u001b[0m 5ms/step - loss: 2.6163e-04 - mean_absolute_error: 0.0078\n",
      "Epoch 160/200\n",
      "\u001b[1m636/636\u001b[0m \u001b[32m━━━━━━━━━━━━━━━━━━━━\u001b[0m\u001b[37m\u001b[0m \u001b[1m3s\u001b[0m 5ms/step - loss: 2.6055e-04 - mean_absolute_error: 0.0078\n",
      "Epoch 161/200\n",
      "\u001b[1m636/636\u001b[0m \u001b[32m━━━━━━━━━━━━━━━━━━━━\u001b[0m\u001b[37m\u001b[0m \u001b[1m3s\u001b[0m 4ms/step - loss: 2.5908e-04 - mean_absolute_error: 0.0077\n",
      "Epoch 162/200\n",
      "\u001b[1m636/636\u001b[0m \u001b[32m━━━━━━━━━━━━━━━━━━━━\u001b[0m\u001b[37m\u001b[0m \u001b[1m3s\u001b[0m 4ms/step - loss: 2.5887e-04 - mean_absolute_error: 0.0077\n",
      "Epoch 163/200\n",
      "\u001b[1m636/636\u001b[0m \u001b[32m━━━━━━━━━━━━━━━━━━━━\u001b[0m\u001b[37m\u001b[0m \u001b[1m3s\u001b[0m 4ms/step - loss: 2.5833e-04 - mean_absolute_error: 0.0077\n",
      "Epoch 164/200\n",
      "\u001b[1m636/636\u001b[0m \u001b[32m━━━━━━━━━━━━━━━━━━━━\u001b[0m\u001b[37m\u001b[0m \u001b[1m3s\u001b[0m 4ms/step - loss: 2.5906e-04 - mean_absolute_error: 0.0078\n",
      "Epoch 165/200\n",
      "\u001b[1m636/636\u001b[0m \u001b[32m━━━━━━━━━━━━━━━━━━━━\u001b[0m\u001b[37m\u001b[0m \u001b[1m3s\u001b[0m 4ms/step - loss: 2.5715e-04 - mean_absolute_error: 0.0077\n",
      "Epoch 166/200\n",
      "\u001b[1m636/636\u001b[0m \u001b[32m━━━━━━━━━━━━━━━━━━━━\u001b[0m\u001b[37m\u001b[0m \u001b[1m3s\u001b[0m 4ms/step - loss: 2.5769e-04 - mean_absolute_error: 0.0077\n",
      "Epoch 167/200\n",
      "\u001b[1m636/636\u001b[0m \u001b[32m━━━━━━━━━━━━━━━━━━━━\u001b[0m\u001b[37m\u001b[0m \u001b[1m3s\u001b[0m 4ms/step - loss: 2.5642e-04 - mean_absolute_error: 0.0077\n",
      "Epoch 168/200\n",
      "\u001b[1m636/636\u001b[0m \u001b[32m━━━━━━━━━━━━━━━━━━━━\u001b[0m\u001b[37m\u001b[0m \u001b[1m3s\u001b[0m 4ms/step - loss: 2.5640e-04 - mean_absolute_error: 0.0077\n",
      "Epoch 169/200\n",
      "\u001b[1m636/636\u001b[0m \u001b[32m━━━━━━━━━━━━━━━━━━━━\u001b[0m\u001b[37m\u001b[0m \u001b[1m3s\u001b[0m 4ms/step - loss: 2.5523e-04 - mean_absolute_error: 0.0077\n",
      "Epoch 170/200\n",
      "\u001b[1m636/636\u001b[0m \u001b[32m━━━━━━━━━━━━━━━━━━━━\u001b[0m\u001b[37m\u001b[0m \u001b[1m3s\u001b[0m 5ms/step - loss: 2.5629e-04 - mean_absolute_error: 0.0077\n",
      "Epoch 171/200\n",
      "\u001b[1m636/636\u001b[0m \u001b[32m━━━━━━━━━━━━━━━━━━━━\u001b[0m\u001b[37m\u001b[0m \u001b[1m3s\u001b[0m 5ms/step - loss: 2.5357e-04 - mean_absolute_error: 0.0077\n",
      "Epoch 172/200\n",
      "\u001b[1m636/636\u001b[0m \u001b[32m━━━━━━━━━━━━━━━━━━━━\u001b[0m\u001b[37m\u001b[0m \u001b[1m3s\u001b[0m 5ms/step - loss: 2.5325e-04 - mean_absolute_error: 0.0077\n",
      "Epoch 173/200\n",
      "\u001b[1m636/636\u001b[0m \u001b[32m━━━━━━━━━━━━━━━━━━━━\u001b[0m\u001b[37m\u001b[0m \u001b[1m3s\u001b[0m 5ms/step - loss: 2.5185e-04 - mean_absolute_error: 0.0076\n",
      "Epoch 174/200\n",
      "\u001b[1m636/636\u001b[0m \u001b[32m━━━━━━━━━━━━━━━━━━━━\u001b[0m\u001b[37m\u001b[0m \u001b[1m3s\u001b[0m 5ms/step - loss: 2.5426e-04 - mean_absolute_error: 0.0077\n",
      "Epoch 175/200\n",
      "\u001b[1m636/636\u001b[0m \u001b[32m━━━━━━━━━━━━━━━━━━━━\u001b[0m\u001b[37m\u001b[0m \u001b[1m3s\u001b[0m 5ms/step - loss: 2.5098e-04 - mean_absolute_error: 0.0076\n",
      "Epoch 176/200\n",
      "\u001b[1m636/636\u001b[0m \u001b[32m━━━━━━━━━━━━━━━━━━━━\u001b[0m\u001b[37m\u001b[0m \u001b[1m3s\u001b[0m 5ms/step - loss: 2.5017e-04 - mean_absolute_error: 0.0076\n",
      "Epoch 177/200\n",
      "\u001b[1m636/636\u001b[0m \u001b[32m━━━━━━━━━━━━━━━━━━━━\u001b[0m\u001b[37m\u001b[0m \u001b[1m3s\u001b[0m 4ms/step - loss: 2.5118e-04 - mean_absolute_error: 0.0076\n",
      "Epoch 178/200\n",
      "\u001b[1m636/636\u001b[0m \u001b[32m━━━━━━━━━━━━━━━━━━━━\u001b[0m\u001b[37m\u001b[0m \u001b[1m3s\u001b[0m 5ms/step - loss: 2.4976e-04 - mean_absolute_error: 0.0076\n",
      "Epoch 179/200\n",
      "\u001b[1m636/636\u001b[0m \u001b[32m━━━━━━━━━━━━━━━━━━━━\u001b[0m\u001b[37m\u001b[0m \u001b[1m3s\u001b[0m 5ms/step - loss: 2.5020e-04 - mean_absolute_error: 0.0076\n",
      "Epoch 180/200\n",
      "\u001b[1m636/636\u001b[0m \u001b[32m━━━━━━━━━━━━━━━━━━━━\u001b[0m\u001b[37m\u001b[0m \u001b[1m5s\u001b[0m 4ms/step - loss: 2.4945e-04 - mean_absolute_error: 0.0076\n",
      "Epoch 181/200\n",
      "\u001b[1m636/636\u001b[0m \u001b[32m━━━━━━━━━━━━━━━━━━━━\u001b[0m\u001b[37m\u001b[0m \u001b[1m3s\u001b[0m 5ms/step - loss: 2.4959e-04 - mean_absolute_error: 0.0076\n",
      "Epoch 182/200\n",
      "\u001b[1m636/636\u001b[0m \u001b[32m━━━━━━━━━━━━━━━━━━━━\u001b[0m\u001b[37m\u001b[0m \u001b[1m3s\u001b[0m 5ms/step - loss: 2.4777e-04 - mean_absolute_error: 0.0076\n",
      "Epoch 183/200\n",
      "\u001b[1m636/636\u001b[0m \u001b[32m━━━━━━━━━━━━━━━━━━━━\u001b[0m\u001b[37m\u001b[0m \u001b[1m3s\u001b[0m 5ms/step - loss: 2.4907e-04 - mean_absolute_error: 0.0076\n",
      "Epoch 184/200\n",
      "\u001b[1m636/636\u001b[0m \u001b[32m━━━━━━━━━━━━━━━━━━━━\u001b[0m\u001b[37m\u001b[0m \u001b[1m5s\u001b[0m 4ms/step - loss: 2.4687e-04 - mean_absolute_error: 0.0076\n",
      "Epoch 185/200\n",
      "\u001b[1m636/636\u001b[0m \u001b[32m━━━━━━━━━━━━━━━━━━━━\u001b[0m\u001b[37m\u001b[0m \u001b[1m3s\u001b[0m 4ms/step - loss: 2.4676e-04 - mean_absolute_error: 0.0076\n",
      "Epoch 186/200\n",
      "\u001b[1m636/636\u001b[0m \u001b[32m━━━━━━━━━━━━━━━━━━━━\u001b[0m\u001b[37m\u001b[0m \u001b[1m3s\u001b[0m 4ms/step - loss: 2.4651e-04 - mean_absolute_error: 0.0076\n",
      "Epoch 187/200\n",
      "\u001b[1m636/636\u001b[0m \u001b[32m━━━━━━━━━━━━━━━━━━━━\u001b[0m\u001b[37m\u001b[0m \u001b[1m3s\u001b[0m 4ms/step - loss: 2.4662e-04 - mean_absolute_error: 0.0076\n",
      "Epoch 188/200\n",
      "\u001b[1m636/636\u001b[0m \u001b[32m━━━━━━━━━━━━━━━━━━━━\u001b[0m\u001b[37m\u001b[0m \u001b[1m3s\u001b[0m 5ms/step - loss: 2.4391e-04 - mean_absolute_error: 0.0075\n",
      "Epoch 189/200\n",
      "\u001b[1m636/636\u001b[0m \u001b[32m━━━━━━━━━━━━━━━━━━━━\u001b[0m\u001b[37m\u001b[0m \u001b[1m5s\u001b[0m 4ms/step - loss: 2.4507e-04 - mean_absolute_error: 0.0075\n",
      "Epoch 190/200\n",
      "\u001b[1m636/636\u001b[0m \u001b[32m━━━━━━━━━━━━━━━━━━━━\u001b[0m\u001b[37m\u001b[0m \u001b[1m5s\u001b[0m 4ms/step - loss: 2.4451e-04 - mean_absolute_error: 0.0075\n",
      "Epoch 191/200\n",
      "\u001b[1m636/636\u001b[0m \u001b[32m━━━━━━━━━━━━━━━━━━━━\u001b[0m\u001b[37m\u001b[0m \u001b[1m3s\u001b[0m 4ms/step - loss: 2.4444e-04 - mean_absolute_error: 0.0075\n",
      "Epoch 192/200\n",
      "\u001b[1m636/636\u001b[0m \u001b[32m━━━━━━━━━━━━━━━━━━━━\u001b[0m\u001b[37m\u001b[0m \u001b[1m3s\u001b[0m 4ms/step - loss: 2.4393e-04 - mean_absolute_error: 0.0075\n",
      "Epoch 193/200\n",
      "\u001b[1m636/636\u001b[0m \u001b[32m━━━━━━━━━━━━━━━━━━━━\u001b[0m\u001b[37m\u001b[0m \u001b[1m3s\u001b[0m 4ms/step - loss: 2.4282e-04 - mean_absolute_error: 0.0075\n",
      "Epoch 194/200\n",
      "\u001b[1m636/636\u001b[0m \u001b[32m━━━━━━━━━━━━━━━━━━━━\u001b[0m\u001b[37m\u001b[0m \u001b[1m3s\u001b[0m 5ms/step - loss: 2.4354e-04 - mean_absolute_error: 0.0075\n",
      "Epoch 195/200\n",
      "\u001b[1m636/636\u001b[0m \u001b[32m━━━━━━━━━━━━━━━━━━━━\u001b[0m\u001b[37m\u001b[0m \u001b[1m6s\u001b[0m 6ms/step - loss: 2.4230e-04 - mean_absolute_error: 0.0075\n",
      "Epoch 196/200\n",
      "\u001b[1m636/636\u001b[0m \u001b[32m━━━━━━━━━━━━━━━━━━━━\u001b[0m\u001b[37m\u001b[0m \u001b[1m4s\u001b[0m 5ms/step - loss: 2.4128e-04 - mean_absolute_error: 0.0075\n",
      "Epoch 197/200\n",
      "\u001b[1m636/636\u001b[0m \u001b[32m━━━━━━━━━━━━━━━━━━━━\u001b[0m\u001b[37m\u001b[0m \u001b[1m4s\u001b[0m 6ms/step - loss: 2.4183e-04 - mean_absolute_error: 0.0075\n",
      "Epoch 198/200\n",
      "\u001b[1m636/636\u001b[0m \u001b[32m━━━━━━━━━━━━━━━━━━━━\u001b[0m\u001b[37m\u001b[0m \u001b[1m4s\u001b[0m 6ms/step - loss: 2.4036e-04 - mean_absolute_error: 0.0075\n",
      "Epoch 199/200\n",
      "\u001b[1m636/636\u001b[0m \u001b[32m━━━━━━━━━━━━━━━━━━━━\u001b[0m\u001b[37m\u001b[0m \u001b[1m4s\u001b[0m 6ms/step - loss: 2.4111e-04 - mean_absolute_error: 0.0075\n",
      "Epoch 200/200\n",
      "\u001b[1m636/636\u001b[0m \u001b[32m━━━━━━━━━━━━━━━━━━━━\u001b[0m\u001b[37m\u001b[0m \u001b[1m4s\u001b[0m 6ms/step - loss: 2.4004e-04 - mean_absolute_error: 0.0075\n",
      "CPU times: user 10min 28s, sys: 37 s, total: 11min 5s\n",
      "Wall time: 10min 23s\n"
     ]
    }
   ],
   "source": [
    "%%time\n",
    "with tf.device(devstr):\n",
    "    history = model.fit(\n",
    "        x_tr,\n",
    "        y_tr,\n",
    "        epochs=epochs,\n",
    "        batch_size=batch_size,\n",
    "        shuffle=shuffle,\n",
    "        verbose=1,\n",
    "        callbacks=[],\n",
    "    )\n",
    "    history = history.history"
   ]
  },
  {
   "cell_type": "markdown",
   "id": "76396e42-842d-422b-823f-3b33af362a9b",
   "metadata": {},
   "source": [
    "## Total parameters:"
   ]
  },
  {
   "cell_type": "code",
   "execution_count": 41,
   "id": "fcf378e7-9eca-4c11-811d-e143923eafcd",
   "metadata": {},
   "outputs": [
    {
     "data": {
      "text/html": [
       "<pre style=\"white-space:pre;overflow-x:auto;line-height:normal;font-family:Menlo,'DejaVu Sans Mono',consolas,'Courier New',monospace\"><span style=\"font-weight: bold\">Model: \"sequential\"</span>\n",
       "</pre>\n"
      ],
      "text/plain": [
       "\u001b[1mModel: \"sequential\"\u001b[0m\n"
      ]
     },
     "metadata": {},
     "output_type": "display_data"
    },
    {
     "data": {
      "text/html": [
       "<pre style=\"white-space:pre;overflow-x:auto;line-height:normal;font-family:Menlo,'DejaVu Sans Mono',consolas,'Courier New',monospace\">┏━━━━━━━━━━━━━━━━━━━━━━━━━━━━━━━━━┳━━━━━━━━━━━━━━━━━━━━━━━━┳━━━━━━━━━━━━━━━┓\n",
       "┃<span style=\"font-weight: bold\"> Layer (type)                    </span>┃<span style=\"font-weight: bold\"> Output Shape           </span>┃<span style=\"font-weight: bold\">       Param # </span>┃\n",
       "┡━━━━━━━━━━━━━━━━━━━━━━━━━━━━━━━━━╇━━━━━━━━━━━━━━━━━━━━━━━━╇━━━━━━━━━━━━━━━┩\n",
       "│ dense (<span style=\"color: #0087ff; text-decoration-color: #0087ff\">Dense</span>)                   │ (<span style=\"color: #00d7ff; text-decoration-color: #00d7ff\">None</span>, <span style=\"color: #00af00; text-decoration-color: #00af00\">72</span>)             │         <span style=\"color: #00af00; text-decoration-color: #00af00\">1,368</span> │\n",
       "├─────────────────────────────────┼────────────────────────┼───────────────┤\n",
       "│ dense_1 (<span style=\"color: #0087ff; text-decoration-color: #0087ff\">Dense</span>)                 │ (<span style=\"color: #00d7ff; text-decoration-color: #00d7ff\">None</span>, <span style=\"color: #00af00; text-decoration-color: #00af00\">72</span>)             │         <span style=\"color: #00af00; text-decoration-color: #00af00\">5,256</span> │\n",
       "├─────────────────────────────────┼────────────────────────┼───────────────┤\n",
       "│ dense_2 (<span style=\"color: #0087ff; text-decoration-color: #0087ff\">Dense</span>)                 │ (<span style=\"color: #00d7ff; text-decoration-color: #00d7ff\">None</span>, <span style=\"color: #00af00; text-decoration-color: #00af00\">256</span>)            │        <span style=\"color: #00af00; text-decoration-color: #00af00\">18,688</span> │\n",
       "└─────────────────────────────────┴────────────────────────┴───────────────┘\n",
       "</pre>\n"
      ],
      "text/plain": [
       "┏━━━━━━━━━━━━━━━━━━━━━━━━━━━━━━━━━┳━━━━━━━━━━━━━━━━━━━━━━━━┳━━━━━━━━━━━━━━━┓\n",
       "┃\u001b[1m \u001b[0m\u001b[1mLayer (type)                   \u001b[0m\u001b[1m \u001b[0m┃\u001b[1m \u001b[0m\u001b[1mOutput Shape          \u001b[0m\u001b[1m \u001b[0m┃\u001b[1m \u001b[0m\u001b[1m      Param #\u001b[0m\u001b[1m \u001b[0m┃\n",
       "┡━━━━━━━━━━━━━━━━━━━━━━━━━━━━━━━━━╇━━━━━━━━━━━━━━━━━━━━━━━━╇━━━━━━━━━━━━━━━┩\n",
       "│ dense (\u001b[38;5;33mDense\u001b[0m)                   │ (\u001b[38;5;45mNone\u001b[0m, \u001b[38;5;34m72\u001b[0m)             │         \u001b[38;5;34m1,368\u001b[0m │\n",
       "├─────────────────────────────────┼────────────────────────┼───────────────┤\n",
       "│ dense_1 (\u001b[38;5;33mDense\u001b[0m)                 │ (\u001b[38;5;45mNone\u001b[0m, \u001b[38;5;34m72\u001b[0m)             │         \u001b[38;5;34m5,256\u001b[0m │\n",
       "├─────────────────────────────────┼────────────────────────┼───────────────┤\n",
       "│ dense_2 (\u001b[38;5;33mDense\u001b[0m)                 │ (\u001b[38;5;45mNone\u001b[0m, \u001b[38;5;34m256\u001b[0m)            │        \u001b[38;5;34m18,688\u001b[0m │\n",
       "└─────────────────────────────────┴────────────────────────┴───────────────┘\n"
      ]
     },
     "metadata": {},
     "output_type": "display_data"
    },
    {
     "data": {
      "text/html": [
       "<pre style=\"white-space:pre;overflow-x:auto;line-height:normal;font-family:Menlo,'DejaVu Sans Mono',consolas,'Courier New',monospace\"><span style=\"font-weight: bold\"> Total params: </span><span style=\"color: #00af00; text-decoration-color: #00af00\">75,938</span> (296.64 KB)\n",
       "</pre>\n"
      ],
      "text/plain": [
       "\u001b[1m Total params: \u001b[0m\u001b[38;5;34m75,938\u001b[0m (296.64 KB)\n"
      ]
     },
     "metadata": {},
     "output_type": "display_data"
    },
    {
     "data": {
      "text/html": [
       "<pre style=\"white-space:pre;overflow-x:auto;line-height:normal;font-family:Menlo,'DejaVu Sans Mono',consolas,'Courier New',monospace\"><span style=\"font-weight: bold\"> Trainable params: </span><span style=\"color: #00af00; text-decoration-color: #00af00\">25,312</span> (98.88 KB)\n",
       "</pre>\n"
      ],
      "text/plain": [
       "\u001b[1m Trainable params: \u001b[0m\u001b[38;5;34m25,312\u001b[0m (98.88 KB)\n"
      ]
     },
     "metadata": {},
     "output_type": "display_data"
    },
    {
     "data": {
      "text/html": [
       "<pre style=\"white-space:pre;overflow-x:auto;line-height:normal;font-family:Menlo,'DejaVu Sans Mono',consolas,'Courier New',monospace\"><span style=\"font-weight: bold\"> Non-trainable params: </span><span style=\"color: #00af00; text-decoration-color: #00af00\">0</span> (0.00 B)\n",
       "</pre>\n"
      ],
      "text/plain": [
       "\u001b[1m Non-trainable params: \u001b[0m\u001b[38;5;34m0\u001b[0m (0.00 B)\n"
      ]
     },
     "metadata": {},
     "output_type": "display_data"
    },
    {
     "data": {
      "text/html": [
       "<pre style=\"white-space:pre;overflow-x:auto;line-height:normal;font-family:Menlo,'DejaVu Sans Mono',consolas,'Courier New',monospace\"><span style=\"font-weight: bold\"> Optimizer params: </span><span style=\"color: #00af00; text-decoration-color: #00af00\">50,626</span> (197.76 KB)\n",
       "</pre>\n"
      ],
      "text/plain": [
       "\u001b[1m Optimizer params: \u001b[0m\u001b[38;5;34m50,626\u001b[0m (197.76 KB)\n"
      ]
     },
     "metadata": {},
     "output_type": "display_data"
    }
   ],
   "source": [
    "model.summary()"
   ]
  },
  {
   "cell_type": "markdown",
   "id": "c0f108f4-f7d8-4953-94b1-3738c8450cd5",
   "metadata": {},
   "source": [
    "## Save model\n",
    "\n",
    "- Save model to NN model directory `../../neural/data` after training.\n",
    "- File name includes loss values, so shouldn't override anything."
   ]
  },
  {
   "cell_type": "markdown",
   "id": "1d88efcd-4876-44f9-bb94-3cbb657eb187",
   "metadata": {},
   "source": [
    "### Get a descriptive filename for the model"
   ]
  },
  {
   "cell_type": "code",
   "execution_count": 42,
   "id": "0f8fe18b-008c-4922-b68a-9efe18536678",
   "metadata": {},
   "outputs": [
    {
     "data": {
      "text/plain": [
       "'72_72'"
      ]
     },
     "execution_count": 42,
     "metadata": {},
     "output_type": "execute_result"
    }
   ],
   "source": [
    "neurons_str = (np.array2string(np.array(neurons)).strip(\"[]\").replace(\" \", \"_\"))\n",
    "neurons_str"
   ]
  },
  {
   "cell_type": "code",
   "execution_count": 43,
   "id": "ed13df0d-6641-487a-baab-faaa27c8b35a",
   "metadata": {},
   "outputs": [
    {
     "data": {
      "text/plain": [
       "'lw-g128-210809'"
      ]
     },
     "execution_count": 43,
     "metadata": {},
     "output_type": "execute_result"
    }
   ],
   "source": [
    "source = kdist[12:].strip(\".nc\")\n",
    "source"
   ]
  },
  {
   "cell_type": "code",
   "execution_count": 44,
   "id": "a10b0047-4d8a-406e-91e0-c424699bf563",
   "metadata": {},
   "outputs": [
    {
     "data": {
      "text/plain": [
       "'../../neural/data/lw-g128-210809_both_72_72.h5'"
      ]
     },
     "execution_count": 44,
     "metadata": {},
     "output_type": "execute_result"
    }
   ],
   "source": [
    "fpath_keras = (\"../../neural/data/\" + source + \"_\" + predictand[3:] + \"_\" +\n",
    "               neurons_str + \".h5\")\n",
    "fpath_keras"
   ]
  },
  {
   "cell_type": "code",
   "execution_count": 45,
   "id": "b049020e-854f-4eab-bea5-1dfc6b95fdce",
   "metadata": {},
   "outputs": [
    {
     "data": {
      "text/plain": [
       "'../../neural/data/lw-g128-210809_both_72_72.nc'"
      ]
     },
     "execution_count": 45,
     "metadata": {},
     "output_type": "execute_result"
    }
   ],
   "source": [
    "fpath_netcdf = fpath_keras[:-3] + \".nc\"\n",
    "fpath_netcdf"
   ]
  },
  {
   "cell_type": "markdown",
   "id": "3dc28cf4-f390-45ab-9359-c9e68f978690",
   "metadata": {},
   "source": [
    "### Saving model in both netCDF and HDF5 format"
   ]
  },
  {
   "cell_type": "code",
   "execution_count": null,
   "id": "48592f67-6c37-4dea-a8ea-fceff19a322e",
   "metadata": {},
   "outputs": [],
   "source": [
    "model.save(fpath_keras, save_format=\"h5\")"
   ]
  },
  {
   "cell_type": "code",
   "execution_count": null,
   "id": "4ec39ff6-9491-45e3-b892-f17c45131801",
   "metadata": {},
   "outputs": [],
   "source": [
    "save_model_netcdf(fpath_netcdf,\n",
    "                  model,\n",
    "                  activ,\n",
    "                  input_names,\n",
    "                  kdist,\n",
    "                  xmin,\n",
    "                  xmax,\n",
    "                  ymean,\n",
    "                  ystd,\n",
    "                  y_scaling_comment=y_scaling_str,\n",
    "                  x_scaling_comment=x_scaling_str,\n",
    "                  data_comment=data_str,\n",
    "                  model_comment=model_str)"
   ]
  },
  {
   "cell_type": "markdown",
   "id": "c49e90b4-7580-4d8a-a35e-bcbdbb59f602",
   "metadata": {},
   "source": [
    "## References"
   ]
  },
  {
   "cell_type": "markdown",
   "id": "d73c9652-39f2-40e9-becf-249d55e8f188",
   "metadata": {},
   "source": [
    "Ukkonen, P., & Hogan, R. J. (2023). Implementation of a machine-learned gas optics parameterization in the ECMWF Integrated Forecasting System: RRTMGP-NN 2.0. Geoscientific Model Development, 16(11), 3241–3261. https://doi.org/10.5194/gmd-16-3241-2023\n",
    "\n",
    "Ukkonen, P., & Hogan, R. J. (2024). Twelve Times Faster yet Accurate: A New State-Of-The-Art in Radiation Schemes via Performance and Spectral Optimization. Journal of Advances in Modeling Earth Systems, 16(1), e2023MS003932. https://doi.org/10.1029/2023MS003932\n",
    "\n",
    "Ukkonen, P., & Hogan, R. J. (2023). Fast computation of cloud 3D radiative effects in dynamical models by optimizing the ecRad scheme [Preprint]. Preprints. https://doi.org/10.22541/essoar.168298700.07329865/v1\n",
    "\n",
    "Ukkonen, P. (2022). Improving the trade-off between accuracy and efficiency of atmospheric radiative transfer computations by using machine learning and code optimization. http://dx.doi.org/10.13140/RG.2.2.27880.03846\n",
    "\n",
    "Ukkonen, P. (2022). Exploring Pathways to More Accurate Machine Learning Emulation of Atmospheric Radiative Transfer. Journal of Advances in Modeling Earth Systems, 14(4), e2021MS002875. https://doi.org/10.1029/2021MS002875\n",
    "\n",
    "Yao, Y., Zhong, X., Zheng, Y., & Wang, Z. (2023). A Physics-Incorporated Deep Learning Framework for Parameterization of Atmospheric Radiative Transfer. Journal of Advances in Modeling Earth Systems, 15(5), e2022MS003445. https://doi.org/10.1029/2022MS003445\n"
   ]
  },
  {
   "cell_type": "markdown",
   "id": "e0c15aff-a7b7-4d56-81a4-9b610184f6c8",
   "metadata": {},
   "source": [
    "## Environment"
   ]
  },
  {
   "cell_type": "code",
   "execution_count": null,
   "id": "1db2bf78-7aef-42b8-a1f1-bcdc8ff13b46",
   "metadata": {},
   "outputs": [],
   "source": [
    "%%bash\n",
    "source ${HOME}/conda/bin/activate tf2\n",
    "conda export --file requirements.yml"
   ]
  },
  {
   "cell_type": "code",
   "execution_count": 9,
   "id": "38a43cf4-3383-49e9-8372-7b4d8671a64a",
   "metadata": {},
   "outputs": [],
   "source": [
    "%%bash\n",
    "ls -1 ukk23test01/neural/data/ > neur_data.txt\n",
    "ls -1 ukk23test01/rrtmgp/data/ > rrtm_data.txt\n",
    "ls -1 ukk23test01/examples/rfmip-clear-sky/data/ > exam_rfmi_data.txt\n",
    "ls -1 ukk23test01/examples/rfmip-clear-sky/output_fluxes/ > exam_rfmi_flux.txt\n",
    "ls -1 ukk23test01/examples/rrtmgp-nn-training/data/ > exam_rrtm_data.txt\n",
    "ls -1 ukk23test01/examples/rrtmgp-nn-training/inputs_to_RRTMGP/ >  exam_rrtm_rrtm.txt"
   ]
  }
 ],
 "metadata": {
  "kernelspec": {
   "display_name": "tf2",
   "language": "python",
   "name": "tf2"
  },
  "language_info": {
   "codemirror_mode": {
    "name": "ipython",
    "version": 3
   },
   "file_extension": ".py",
   "mimetype": "text/x-python",
   "name": "python",
   "nbconvert_exporter": "python",
   "pygments_lexer": "ipython3",
   "version": "3.12.4"
  }
 },
 "nbformat": 4,
 "nbformat_minor": 5
}
