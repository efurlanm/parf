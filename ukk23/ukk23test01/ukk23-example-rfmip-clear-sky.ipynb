{
 "cells": [
  {
   "cell_type": "markdown",
   "id": "0115effc-6127-4219-9d51-a685ee94e253",
   "metadata": {},
   "source": [
    "# Build Ukk23 examples/rfmip-clear-sky\n",
    "\n",
    "*2024-07-18*\n",
    "\n",
    "Based on: <https://github.com/peterukk/rte-rrtmgp-nn>\n",
    "\n",
    "Ukkonen, P., & Hogan, R. J. (2023). Implementation of a machine-learned gas optics parameterization in the ECMWF Integrated Forecasting System: RRTMGP-NN 2.0. Geoscientific Model Development, 16(11), 3241–3261. <https://doi.org/10.5194/gmd-16-3241-2023>\n",
    "\n",
    "Instructions: examples/rfmip-clear-sky/Readme.md"
   ]
  },
  {
   "cell_type": "code",
   "execution_count": 1,
   "id": "72e4fb6d-d13d-4a16-871f-6d50e3409409",
   "metadata": {},
   "outputs": [
    {
     "name": "stdout",
     "output_type": "stream",
     "text": [
      "/home/x/Documents/inpe/Ukk23/ukk23test01/build\n"
     ]
    }
   ],
   "source": [
    "%cd build"
   ]
  },
  {
   "cell_type": "code",
   "execution_count": 2,
   "id": "212bb783-bac8-4f1b-8a64-36fb34d2fc17",
   "metadata": {},
   "outputs": [
    {
     "name": "stdout",
     "output_type": "stream",
     "text": [
      "env: FC=gfortran\n",
      "env: FCFLAGS=-ffree-line-length-none -m64 -march=native -O3\n",
      "env: NCHOME=/usr\n",
      "env: NFHOME=/usr\n",
      "env: BLASLIB=openblas\n"
     ]
    }
   ],
   "source": [
    "%env FC=gfortran\n",
    "%env FCFLAGS=-ffree-line-length-none -m64 -march=native -O3\n",
    "%env NCHOME=/usr\n",
    "%env NFHOME=/usr\n",
    "%env BLASLIB=openblas"
   ]
  },
  {
   "cell_type": "markdown",
   "id": "a5b387ed-22ad-4be3-9841-e250e99a854d",
   "metadata": {},
   "source": [
    "## Build the RTE+RRTMGP libraries"
   ]
  },
  {
   "cell_type": "code",
   "execution_count": 3,
   "id": "ef4c6f3d-81f7-44a5-bffc-4d766a463060",
   "metadata": {},
   "outputs": [
    {
     "name": "stdout",
     "output_type": "stream",
     "text": [
      "rm -f *.optrpt *.mod *.o librrtmgp.a librte.a libneural.a\n"
     ]
    }
   ],
   "source": [
    "! make clean"
   ]
  },
  {
   "cell_type": "code",
   "execution_count": 4,
   "id": "c0842bae-912d-430e-a27a-ca4cc87a9d16",
   "metadata": {
    "scrolled": true
   },
   "outputs": [
    {
     "name": "stdout",
     "output_type": "stream",
     "text": [
      "gfortran -ffree-line-length-none -m64 -march=native -O3 -I/usr/include -c ../rte/mo_rte_kind.F90\n",
      "gfortran -ffree-line-length-none -m64 -march=native -O3 -I/usr/include -c ../rte/mo_rte_rrtmgp_config.F90\n",
      "gfortran -ffree-line-length-none -m64 -march=native -O3 -I/usr/include -c ../rte/mo_rte_util_array.F90\n",
      "gfortran -ffree-line-length-none -m64 -march=native -O3 -I/usr/include -c ../rte/kernels/mo_optical_props_kernels.F90\n",
      "gfortran -ffree-line-length-none -m64 -march=native -O3 -I/usr/include -c ../rte/mo_optical_props.F90\n",
      "gfortran -ffree-line-length-none -m64 -march=native -O3 -I/usr/include -c ../rte/mo_source_functions.F90\n",
      "gfortran -ffree-line-length-none -m64 -march=native -O3 -I/usr/include -c ../rte/kernels/mo_fluxes_broadband_kernels.F90\n",
      "gfortran -ffree-line-length-none -m64 -march=native -O3 -I/usr/include -c ../rte/mo_fluxes.F90\n",
      "gfortran -ffree-line-length-none -m64 -march=native -O3 -I/usr/include -c ../rte/kernels/mo_rte_solver_kernels.F90\n",
      "gfortran -ffree-line-length-none -m64 -march=native -O3 -I/usr/include -c ../rte/mo_rte_lw.F90\n",
      "gfortran -ffree-line-length-none -m64 -march=native -O3 -I/usr/include -c ../rte/mo_rte_sw.F90\n",
      "ar -rvs librte.a mo_rte_kind.o mo_rte_rrtmgp_config.o mo_rte_util_array.o mo_optical_props_kernels.o mo_optical_props.o mo_source_functions.o mo_fluxes_broadband_kernels.o mo_fluxes.o mo_rte_solver_kernels.o mo_rte_lw.o mo_rte_sw.o\n",
      "ar: creating librte.a\n",
      "a - mo_rte_kind.o\n",
      "a - mo_rte_rrtmgp_config.o\n",
      "a - mo_rte_util_array.o\n",
      "a - mo_optical_props_kernels.o\n",
      "a - mo_optical_props.o\n",
      "a - mo_source_functions.o\n",
      "a - mo_fluxes_broadband_kernels.o\n",
      "a - mo_fluxes.o\n",
      "a - mo_rte_solver_kernels.o\n",
      "a - mo_rte_lw.o\n",
      "a - mo_rte_sw.o\n",
      "gfortran -ffree-line-length-none -m64 -march=native -O3 -I/usr/include -c ../rrtmgp/mo_rrtmgp_util_string.F90\n",
      "gfortran -ffree-line-length-none -m64 -march=native -O3 -I/usr/include -c ../rrtmgp/mo_rrtmgp_constants.F90\n",
      "gfortran -ffree-line-length-none -m64 -march=native -O3 -I/usr/include -c ../rrtmgp/kernels/mo_rrtmgp_util_reorder_kernels.F90\n",
      "gfortran -ffree-line-length-none -m64 -march=native -O3 -I/usr/include -c ../rrtmgp/mo_rrtmgp_util_reorder.F90\n",
      "gfortran -ffree-line-length-none -m64 -march=native -O3 -I/usr/include -c ../rrtmgp/mo_gas_ref_concentrations.F90\n",
      "gfortran -ffree-line-length-none -m64 -march=native -O3 -I/usr/include -c ../rrtmgp/mo_gas_concentrations.F90\n",
      "gfortran -ffree-line-length-none -m64 -march=native -O3 -I/usr/include -c ../neural/mod_activation.F90\n",
      "gfortran -ffree-line-length-none -m64 -march=native -O3 -I/usr/include -c ../neural/mod_random.F90\n",
      "gfortran -ffree-line-length-none -m64 -march=native -O3 -I/usr/include -c ../neural/mod_layer.F90\n",
      "gfortran -ffree-line-length-none -m64 -march=native -O3 -I/usr/include -c ../neural/mod_network.F90\n",
      "gfortran -ffree-line-length-none -m64 -march=native -O3 -I/usr/include -c ../examples/mo_simple_netcdf.F90\n",
      "gfortran -ffree-line-length-none -m64 -march=native -O3 -I/usr/include -c ../neural/mod_network_rrtmgp.F90\n",
      "gfortran -ffree-line-length-none -m64 -march=native -O3 -I/usr/include -c ../rrtmgp/kernels/mo_gas_optics_kernels.F90\n",
      "gfortran -ffree-line-length-none -m64 -march=native -O3 -I/usr/include -c ../rrtmgp/mo_gas_optics.F90\n",
      "gfortran -ffree-line-length-none -m64 -march=native -O3 -I/usr/include -c ../rrtmgp/mo_gas_optics_rrtmgp.F90\n",
      "ar -rvs librrtmgp.a mo_rrtmgp_util_string.o mo_rrtmgp_constants.o mo_rrtmgp_util_reorder_kernels.o mo_rrtmgp_util_reorder.o mo_gas_ref_concentrations.o mo_gas_concentrations.o mo_gas_optics_kernels.o mo_gas_optics.o mo_gas_optics_rrtmgp.o\n",
      "ar: creating librrtmgp.a\n",
      "a - mo_rrtmgp_util_string.o\n",
      "a - mo_rrtmgp_constants.o\n",
      "a - mo_rrtmgp_util_reorder_kernels.o\n",
      "a - mo_rrtmgp_util_reorder.o\n",
      "a - mo_gas_ref_concentrations.o\n",
      "a - mo_gas_concentrations.o\n",
      "a - mo_gas_optics_kernels.o\n",
      "a - mo_gas_optics.o\n",
      "a - mo_gas_optics_rrtmgp.o\n",
      "gfortran -ffree-line-length-none -m64 -march=native -O3 -I/usr/include -c ../neural/mod_io.F90\n",
      "ar -rvs libneural.a mo_rte_kind.o mod_activation.o mod_io.o mod_layer.o mod_network.o mod_network_rrtmgp.o mod_random.o\n",
      "ar: creating libneural.a\n",
      "a - mo_rte_kind.o\n",
      "a - mod_activation.o\n",
      "a - mod_io.o\n",
      "a - mod_layer.o\n",
      "a - mod_network.o\n",
      "a - mod_network_rrtmgp.o\n",
      "a - mod_random.o\n"
     ]
    }
   ],
   "source": [
    "! make"
   ]
  },
  {
   "cell_type": "markdown",
   "id": "3566600f-dfb0-49f8-b7b5-221a6f9fd757",
   "metadata": {},
   "source": [
    "## Build the executables (examples)"
   ]
  },
  {
   "cell_type": "code",
   "execution_count": 5,
   "id": "b6819ef6-7646-4866-a938-2bfc46e5eb6a",
   "metadata": {},
   "outputs": [
    {
     "name": "stdout",
     "output_type": "stream",
     "text": [
      "/home/x/Documents/inpe/Ukk23/ukk23test01/examples/rfmip-clear-sky\n"
     ]
    }
   ],
   "source": [
    "%cd ../examples/rfmip-clear-sky"
   ]
  },
  {
   "cell_type": "code",
   "execution_count": 6,
   "id": "f3150ee3-dc33-4696-b2fc-c392dfeb27e2",
   "metadata": {},
   "outputs": [
    {
     "name": "stdout",
     "output_type": "stream",
     "text": [
      "VAR=\"../../\"\n",
      "gfortran -ffree-line-length-none -m64 -march=native -O3 -I../..//build -I/usr/include -c ../mo_simple_netcdf.F90 -fopenmp\n",
      "gfortran -ffree-line-length-none -m64 -march=native -O3 -I../..//build -I/usr/include -c mo_rfmip_io.F90 -fopenmp\n",
      "gfortran -ffree-line-length-none -m64 -march=native -O3 -I../..//build -I/usr/include -c ../mo_load_coefficients.F90 -fopenmp\n",
      "gfortran -ffree-line-length-none -m64 -march=native -O3 -I../..//build -I/usr/include -c rrtmgp_rfmip_lw.F90 -fopenmp\n",
      "gfortran -ffree-line-length-none -m64 -march=native -O3 -o rrtmgp_rfmip_lw rrtmgp_rfmip_lw.o mo_simple_netcdf.o mo_rfmip_io.o mo_load_coefficients.o ../..//build/librte.a ../..//build/librrtmgp.a ../..//build/libneural.a -L../..//build -L/usr/lib -L/usr/lib -lrrtmgp -lrte -lneural -lnetcdff -lnetcdf -lopenblas  -fopenmp\n",
      "gfortran -ffree-line-length-none -m64 -march=native -O3 -I../..//build -I/usr/include -c rrtmgp_rfmip_sw.F90 -fopenmp\n",
      "gfortran -ffree-line-length-none -m64 -march=native -O3 -o rrtmgp_rfmip_sw rrtmgp_rfmip_sw.o mo_simple_netcdf.o mo_rfmip_io.o mo_load_coefficients.o ../..//build/librte.a ../..//build/librrtmgp.a ../..//build/libneural.a -L../..//build -L/usr/lib -L/usr/lib -lrrtmgp -lrte -lneural -lnetcdff -lnetcdf -lopenblas  -fopenmp\n"
     ]
    }
   ],
   "source": [
    "! make"
   ]
  },
  {
   "cell_type": "markdown",
   "id": "cf06aa21-994e-4a91-a007-08d85f9153c1",
   "metadata": {},
   "source": [
    "## Run via run-rfmip-examples.py"
   ]
  },
  {
   "cell_type": "code",
   "execution_count": 7,
   "id": "388cbcd8-1a25-42c1-ab66-21a3427a7f88",
   "metadata": {
    "scrolled": true
   },
   "outputs": [
    {
     "name": "stdout",
     "output_type": "stream",
     "text": [
      "Running ./rrtmgp_rfmip_lw   8 multiple_input4MIPs_radiation_RFMIP_UColorado-RFMIP-1-2_none.nc ../../rrtmgp/data/rrtmgp-data-lw-g256-2018-12-04.nc\n",
      " Usage: rrtmgp_rfmip_lw [block_size] [rfmip_file] [k-distribution_file] [forcing_index (1,2,3)] [physics_index (1,2)]  input_output file]\n",
      " OR:  rrtmgp_rfmip_lw [block_size] [rfmip_file] [k-distribution_file] [forcing_index] [physics_index] [NN_lw_abs_file] [NN_lw_planck_file]\n",
      " input file:multiple_input4MIPs_radiation_RFMIP_UColorado-RFMIP-1-2_none.nc                                                                     \n",
      " nexp:          18 ncol:         100 nlay:          60 block_size:           8\n",
      " Doing          225 blocks of size            8\n",
      " Calculation uses RFMIP gases: h2o co2 o3 n2o co ch4 o2 n2 ccl4 cfc11 cfc12 cfc22 hfc143a hfc125 hfc23 hfc32 hfc134a cf4 no2 \n",
      " setting no2 to zero\n",
      " starting clear-sky LW computations, using lookup-table as RRTMGP kernel\n",
      " Elapsed time on everything   0.555999994    \n",
      " -----------------------------------------------------------------------------------------\n",
      " mean of flux_down is:   103.235573    \n",
      " mean of flux_up is:   301.596527    \n",
      " -----------------------------------------------------------------------------------------------------\n",
      " -----COMPARING ERRORS (W.R.T. LINE-BY-LINE) OF NEW RESULTS AND RRTMGP-256  -------\n",
      " -----------------------------------------------------------------------------------------------------\n",
      " read_and_block_gases_ty: can't find file output_fluxes/rlud_Efx_RTE-RRTMGP-181204_rad-irf_r1i1p1f1_gn_REF-DP.nc\n",
      " rrtmgp_rfmip_lw stopping\n",
      "Note: The following floating-point exceptions are signalling: IEEE_UNDERFLOW_FLAG IEEE_DENORMAL\n",
      " Usage: rrtmgp_rfmip_sw [block_size] [rfmip_file] [k-distribution_file] [forcing_index (1,2,3)]\n",
      " OR:  rrtmgp_rfmip_sw [block_size] [rfmip_file] [k-distribution_file] [forcing_index] [NN_sw_abs_file] [NN_sw_ray_file]\n",
      " input file:multiple_input4MIPs_radiation_RFMIP_UColorado-RFMIP-1-2_none.nc                                                                     \n",
      " nexp:          18 ncol:         100 nlay:          60\n",
      " Doing          225 blocks of size            8\n",
      " Calculation uses RFMIP gases: h2o co2 o3 n2o co ch4 o2 n2 ccl4 cfc11 cfc12 cfc22 hfc143a hfc125 hfc23 hfc32 hfc134a cf4 no2 \n",
      " setting no2 to zero\n",
      " starting clear-sky SW computations, using lookup-table as RRTMGP kernel\n",
      " sum toa flux   1360.99963    \n",
      " sum toa flux   1360.99963    \n",
      " sum toa flux   1360.99963    \n",
      " sum toa flux   1360.99963    \n",
      " sum toa flux   1360.99963    \n",
      " sum toa flux   1360.99963    \n",
      " sum toa flux   1360.99963    \n",
      " sum toa flux   1360.99963    \n",
      " sum toa flux   1360.99963    \n",
      " sum toa flux   1360.99963    \n",
      " sum toa flux   1360.99963    \n",
      " sum toa flux   1360.99963    \n",
      " sum toa flux   1360.99963    \n",
      " sum toa flux   1360.99963    \n",
      " sum toa flux   1360.99963    \n",
      " sum toa flux   1360.99963    \n",
      " sum toa flux   1360.99963    \n",
      " sum toa flux   1360.99963    \n",
      " sum toa flux   1360.99963    \n",
      " sum toa flux   1360.99963    \n",
      " sum toa flux   1360.99963    \n",
      " sum toa flux   1360.99963    \n",
      " sum toa flux   1360.99963    \n",
      " sum toa flux   1360.99963    \n",
      " sum toa flux   1360.99963    \n",
      " sum toa flux   1360.99963    \n",
      " sum toa flux   1360.99963    \n",
      " sum toa flux   1360.99963    \n",
      " sum toa flux   1360.99963    \n",
      " sum toa flux   1360.99963    \n",
      " sum toa flux   1360.99963    \n",
      " sum toa flux   1360.99963    \n",
      " sum toa flux   1360.99963    \n",
      " sum toa flux   1360.99963    \n",
      " sum toa flux   1360.99963    \n",
      " sum toa flux   1360.99963    \n",
      " sum toa flux   1360.99963    \n",
      " sum toa flux   1360.99963    \n",
      " sum toa flux   1360.99963    \n",
      " sum toa flux   1360.99963    \n",
      " sum toa flux   1360.99963    \n",
      " sum toa flux   1360.99963    \n",
      " sum toa flux   1360.99963    \n",
      " sum toa flux   1360.99963    \n",
      " sum toa flux   1360.99963    \n",
      " sum toa flux   1360.99963    \n",
      " sum toa flux   1360.99963    \n",
      " sum toa flux   1360.99963    \n",
      " sum toa flux   1360.99963    \n",
      " sum toa flux   1360.99963    \n",
      " sum toa flux   1360.99963    \n",
      " sum toa flux   1360.99963    \n",
      " sum toa flux   1360.99963    \n",
      " sum toa flux   1360.99963    \n",
      " sum toa flux   1360.99963    \n",
      " sum toa flux   1360.99963    \n",
      " sum toa flux   1360.99963    \n",
      " sum toa flux   1360.99963    \n",
      " sum toa flux   1360.99963    \n",
      " sum toa flux   1360.99963    \n",
      " sum toa flux   1360.99963    \n",
      " sum toa flux   1360.99963    \n",
      " sum toa flux   1360.99963    \n",
      " sum toa flux   1360.99963    \n",
      " sum toa flux   1360.99963    \n",
      " sum toa flux   1360.99963    \n",
      " sum toa flux   1360.99963    \n",
      " sum toa flux   1360.99963    \n",
      " sum toa flux   1360.99963    \n",
      " sum toa flux   1360.99963    \n",
      " sum toa flux   1360.99963    \n",
      " sum toa flux   1360.99963    \n",
      " sum toa flux   1360.99963    \n",
      " sum toa flux   1360.99963    \n",
      " sum toa flux   1360.99963    \n",
      " sum toa flux   1360.99963    \n",
      " sum toa flux   1360.99963    \n",
      " sum toa flux   1360.99963    \n",
      " sum toa flux   1360.99963    \n",
      " sum toa flux   1360.99963    \n",
      " sum toa flux   1360.99963    \n",
      " sum toa flux   1360.99963    \n",
      " sum toa flux   1360.99963    \n",
      " sum toa flux   1360.99963    \n",
      " sum toa flux   1360.99963    \n",
      " sum toa flux   1360.99963    \n",
      " sum toa flux   1360.99963    \n",
      " sum toa flux   1360.99963    \n",
      " sum toa flux   1360.99963    \n",
      " sum toa flux   1360.99963    \n",
      " sum toa flux   1360.99963    \n",
      " sum toa flux   1360.99963    \n",
      " sum toa flux   1360.99963    \n",
      " sum toa flux   1360.99963    \n",
      " sum toa flux   1360.99963    \n",
      " sum toa flux   1360.99963    \n",
      " sum toa flux   1360.99963    \n",
      " sum toa flux   1360.99963    \n",
      " sum toa flux   1360.99963    \n",
      " sum toa flux   1360.99963    \n",
      " sum toa flux   1360.99963    \n",
      " sum toa flux   1360.99963    \n",
      " sum toa flux   1360.99963    \n",
      " sum toa flux   1360.99963    \n",
      " sum toa flux   1360.99963    \n",
      " sum toa flux   1360.99963    \n",
      " sum toa flux   1360.99963    \n",
      " sum toa flux   1360.99963    \n",
      " sum toa flux   1360.99963    \n",
      " sum toa flux   1360.99963    \n",
      " sum toa flux   1360.99963    \n",
      " sum toa flux   1360.99963    \n",
      " sum toa flux   1360.99963    \n",
      " sum toa flux   1360.99963    \n",
      " sum toa flux   1360.99963    \n",
      " sum toa flux   1360.99963    \n",
      " sum toa flux   1360.99963    \n",
      " sum toa flux   1360.99963    \n",
      " sum toa flux   1360.99963    \n",
      " sum toa flux   1360.99963    \n",
      " sum toa flux   1360.99963    \n",
      " sum toa flux   1360.99963    \n",
      " sum toa flux   1360.99963    \n",
      " sum toa flux   1360.99963    \n",
      " sum toa flux   1360.99963    \n",
      " sum toa flux   1360.99963    \n",
      " sum toa flux   1360.99963    \n",
      " sum toa flux   1360.99963    \n",
      " sum toa flux   1360.99963    \n",
      " sum toa flux   1360.99963    \n",
      " sum toa flux   1360.99963    \n",
      " sum toa flux   1360.99963    \n",
      " sum toa flux   1360.99963    \n",
      " sum toa flux   1360.99963    \n",
      " sum toa flux   1360.99963    \n",
      " sum toa flux   1360.99963    \n",
      " sum toa flux   1360.99963    \n",
      " sum toa flux   1360.99963    \n",
      " sum toa flux   1360.99963    \n",
      " sum toa flux   1360.99963    \n",
      " sum toa flux   1360.99963    \n",
      " sum toa flux   1360.99963    \n",
      " sum toa flux   1360.99963    \n",
      " sum toa flux   1360.99963    \n",
      " sum toa flux   1360.99963    \n",
      " sum toa flux   1360.99963    \n",
      " sum toa flux   1360.99963    \n",
      " sum toa flux   1360.99963    \n",
      " sum toa flux   1360.99963    \n",
      " sum toa flux   1360.99963    \n",
      " sum toa flux   1360.99963    \n",
      " sum toa flux   1360.99963    \n",
      " sum toa flux   1360.99963    \n",
      " sum toa flux   1360.99963    \n",
      " sum toa flux   1360.99963    \n",
      " sum toa flux   1360.99963    \n",
      " sum toa flux   1360.99963    \n",
      " sum toa flux   1360.99963    \n",
      " sum toa flux   1360.99963    \n",
      " sum toa flux   1360.99963    \n",
      " sum toa flux   1360.99963    \n",
      " sum toa flux   1360.99963    \n",
      " sum toa flux   1360.99963    \n",
      " sum toa flux   1360.99963    \n",
      " sum toa flux   1360.99963    \n",
      " sum toa flux   1360.99963    \n",
      " sum toa flux   1360.99963    \n",
      " sum toa flux   1360.99963    \n",
      " sum toa flux   1360.99963    \n",
      " sum toa flux   1360.99963    \n",
      " sum toa flux   1360.99963    \n",
      " sum toa flux   1360.99963    \n",
      " sum toa flux   1360.99963    \n",
      " sum toa flux   1360.99963    \n",
      " sum toa flux   1360.99963    \n",
      " sum toa flux   1360.99963    \n",
      " sum toa flux   1360.99963    \n",
      " sum toa flux   1360.99963    \n",
      " sum toa flux   1360.99963    \n",
      " sum toa flux   1360.99963    \n",
      " sum toa flux   1360.99963    \n",
      " sum toa flux   1360.99963    \n",
      " sum toa flux   1360.99963    \n",
      " sum toa flux   1360.99963    \n",
      " sum toa flux   1360.99963    \n",
      " sum toa flux   1360.99963    \n",
      " sum toa flux   1360.99963    \n",
      " sum toa flux   1360.99963    \n",
      " sum toa flux   1360.99963    \n",
      " sum toa flux   1360.99963    \n",
      " sum toa flux   1360.99963    \n",
      " sum toa flux   1360.99963    \n",
      " sum toa flux   1360.99963    \n",
      " sum toa flux   1360.99963    \n",
      " sum toa flux   1360.99963    \n",
      " sum toa flux   1360.99963    \n",
      " sum toa flux   1360.99963    \n",
      " sum toa flux   1360.99963    \n",
      " sum toa flux   1360.99963    \n",
      " sum toa flux   1360.99963    \n",
      " sum toa flux   1360.99963    \n",
      " sum toa flux   1360.99963    \n",
      " sum toa flux   1360.99963    \n",
      " sum toa flux   1360.99963    \n",
      " sum toa flux   1360.99963    \n",
      " sum toa flux   1360.99963    \n",
      " sum toa flux   1360.99963    \n",
      " sum toa flux   1360.99963    \n",
      " sum toa flux   1360.99963    \n",
      " sum toa flux   1360.99963    \n",
      " sum toa flux   1360.99963    \n",
      " sum toa flux   1360.99963    \n",
      " sum toa flux   1360.99963    \n",
      " sum toa flux   1360.99963    \n",
      " sum toa flux   1360.99963    \n",
      " sum toa flux   1360.99963    \n",
      " sum toa flux   1360.99963    \n",
      " sum toa flux   1360.99963    \n",
      " sum toa flux   1360.99963    \n",
      " sum toa flux   1360.99963    \n",
      " sum toa flux   1360.99963    \n",
      " sum toa flux   1360.99963    \n",
      " sum toa flux   1360.99963    \n",
      " sum toa flux   1360.99963    \n",
      " sum toa flux   1360.99963    \n",
      " Elapsed time on everything   0.638000011    \n",
      " mean of flux_down is:   292.739594    \n",
      " mean of flux_up is:   41.8369751    \n",
      " -----------------------------------------------------------------------------------------------------\n",
      " -----COMPARING ERRORS (W.R.T. LINE-BY-LINE) OF NEW RESULTS AND RRTMGP-224  -------\n",
      " -----------------------------------------------------------------------------------------------------\n",
      " read_and_block_gases_ty: can't find file output_fluxes/rsud_Efx_RTE-RRTMGP-181204_rad-irf_r1i1p1f1_gn_REF-DP.nc\n",
      " rrtmgp_rfmip_sw stopping\n",
      "Note: The following floating-point exceptions are signalling: IEEE_UNDERFLOW_FLAG IEEE_DENORMAL\n"
     ]
    }
   ],
   "source": [
    "! python3 run-rfmip-examples.py"
   ]
  },
  {
   "cell_type": "markdown",
   "id": "8b07fba8-80cf-49ed-9aa6-60e97d5b4351",
   "metadata": {},
   "source": [
    "## Run manually"
   ]
  },
  {
   "cell_type": "code",
   "execution_count": 9,
   "id": "f4035ec0-1854-447e-8924-e673d5cc7570",
   "metadata": {
    "scrolled": true
   },
   "outputs": [
    {
     "name": "stdout",
     "output_type": "stream",
     "text": [
      " Usage: rrtmgp_rfmip_lw [block_size] [rfmip_file] [k-distribution_file] [forcing_index (1,2,3)] [physics_index (1,2)]  input_output file]\n",
      " OR:  rrtmgp_rfmip_lw [block_size] [rfmip_file] [k-distribution_file] [forcing_index] [physics_index] [NN_lw_abs_file] [NN_lw_planck_file]\n",
      " input file:multiple_input4MIPs_radiation_RFMIP_UColorado-RFMIP-1-2_none.nc                                                                     \n",
      " nexp:          18 ncol:         100 nlay:          60 block_size:           8\n",
      " Doing          225 blocks of size            8\n",
      " Calculation uses RFMIP gases: h2o co2 o3 n2o co ch4 o2 n2 ccl4 cfc11 cfc12 cfc22 hfc143a hfc125 hfc23 hfc32 hfc134a cf4 no2 \n",
      " setting no2 to zero\n",
      " starting clear-sky LW computations, using lookup-table as RRTMGP kernel\n",
      " Elapsed time on everything   0.629999995    \n",
      " -----------------------------------------------------------------------------------------\n",
      " mean of flux_down is:   103.235573    \n",
      " mean of flux_up is:   301.596527    \n",
      " -----------------------------------------------------------------------------------------------------\n",
      " -----COMPARING ERRORS (W.R.T. LINE-BY-LINE) OF NEW RESULTS AND RRTMGP-256  -------\n",
      " -----------------------------------------------------------------------------------------------------\n",
      " ------------- UPWELLING -------------- \n",
      " MAE in upwelling fluxes of new result and RRTMGP, present-day:              0.312875390      0.312878013    \n",
      " MAE in upwelling fluxes of new result and RRTMGP, future:                   0.418379158      0.418386072    \n",
      " bias in upwelling flux of new result and RRTMGP, present-day, top-of-atm.:  -3.08227539E-03  -3.08227539E-03\n",
      " bias in upwelling flux of new result and RRTMGP, future, top-of-atm.:       0.305130005      0.305130005    \n",
      " bias in upwelling flux of new result and RRTMGP, ALL EXPS, top-of-atm.:      9.64355469E-02   9.64965820E-02\n",
      " -------------- DOWNWELLING --------------\n",
      " MAE in downwelling fluxes of new result and RRTMGP, present-day:            0.350339681      0.351300627    \n",
      " -------------- NET FLUX --------------\n",
      " Max-vertical-error in net fluxes of new result and RRTMGP, pres.day:     3.14877319       3.15084839    \n",
      " Max-vertical-error in net fluxes of new result and RRTMGP, future-all:   3.71746826       3.71765137    \n",
      " ---------\n",
      " MAE in net fluxes of new result and RRTMGP, present-day:                 0.477041900      0.482288390    \n",
      " MAE in net fluxes of new result and RRTMGP, future-all:                  0.835817277      0.844051242    \n",
      " MAE in net fluxes of new result and RRTMGP, ALL EXPS:                    0.521373034      0.526925981    \n",
      " ---------\n",
      " RMSE in net fluxes of new result and RRTMGP, present-day, SURFACE:       1.33160937       1.33117247    \n",
      " ---------\n",
      " bias in net fluxes of new result and RRTMGP, future-all, SURFACE:        -1.26643372      -1.26574707    \n",
      " ---------\n",
      " radiative forcing error at surface, pre-industrial N2O to present-day:   -3.16512585E-03  -3.17023695E-03\n",
      " radiative forcing error at TOA, pre-industrial N2O to present-day:        2.36256421E-02   2.36256421E-02\n",
      " ---------\n",
      " MAE in net flux w.r.t RRTMGP          1.01115666E-02\n",
      " Max-diff in d.w. flux w.r.t RRTMGP   0.112808228    \n",
      " Max-diff in u.w. flux w.r.t RRTMGP    4.27246094E-04\n",
      " Max-diff in net flux w.r.t RRTMGP    0.112762451    \n",
      " SUCCESS!\n"
     ]
    }
   ],
   "source": [
    "%%bash\n",
    "./rrtmgp_rfmip_lw \\\n",
    "    8 \\\n",
    "    multiple_input4MIPs_radiation_RFMIP_UColorado-RFMIP-1-2_none.nc \\\n",
    "    ../../rrtmgp/data/rrtmgp-data-lw-g256-2018-12-04.nc \\\n",
    "    1 \\\n",
    "    1"
   ]
  },
  {
   "cell_type": "code",
   "execution_count": 10,
   "id": "a8cfddbf-7c0c-4ee1-8b10-a5fa093ae5b9",
   "metadata": {},
   "outputs": [
    {
     "name": "stdout",
     "output_type": "stream",
     "text": [
      " Usage: rrtmgp_rfmip_sw [block_size] [rfmip_file] [k-distribution_file] [forcing_index (1,2,3)]\n",
      " OR:  rrtmgp_rfmip_sw [block_size] [rfmip_file] [k-distribution_file] [forcing_index] [NN_sw_abs_file] [NN_sw_ray_file]\n",
      "STOP provide 1-4 or 6 arguments\n"
     ]
    }
   ],
   "source": [
    "! ./rrtmgp_rfmip_sw \\\n",
    "    8 \\\n",
    "    multiple_input4MIPs_radiation_RFMIP_UColorado-RFMIP-1-2_none.nc \\\n",
    "    ../../rrtmgp/data/rrtmgp-data-sw-g224-2018-12-04.nc \\\n",
    "    1 \\\n",
    "    1"
   ]
  },
  {
   "cell_type": "code",
   "execution_count": null,
   "id": "ebdf273b-0c26-4c39-8af5-61f42f43db7f",
   "metadata": {},
   "outputs": [],
   "source": []
  }
 ],
 "metadata": {
  "kernelspec": {
   "display_name": "Python 3 (ipykernel)",
   "language": "python",
   "name": "python3"
  },
  "language_info": {
   "codemirror_mode": {
    "name": "ipython",
    "version": 3
   },
   "file_extension": ".py",
   "mimetype": "text/x-python",
   "name": "python",
   "nbconvert_exporter": "python",
   "pygments_lexer": "ipython3",
   "version": "3.12.2"
  }
 },
 "nbformat": 4,
 "nbformat_minor": 5
}
